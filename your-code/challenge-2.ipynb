{
 "cells": [
  {
   "cell_type": "markdown",
   "metadata": {},
   "source": [
    "# Challenge 2: Sentiment Analysis\n",
    "\n",
    "In this challenge we will learn sentiment analysis and practice performing sentiment analysis on Twitter tweets. \n",
    "\n",
    "## Introduction\n",
    "\n",
    "Sentiment analysis is to *systematically identify, extract, quantify, and study affective states and subjective information* based on texts ([reference](https://en.wikipedia.org/wiki/Sentiment_analysis)). In simple words, it's to understand whether a person is happy or unhappy in producing the piece of text. Why we (or rather, companies) care about sentiment in texts? It's because by understanding the sentiments in texts, we will be able to know if our customers are happy or unhappy about our products and services. If they are unhappy, the subsequent action is to figure out what have caused the unhappiness and make improvements.\n",
    "\n",
    "Basic sentiment analysis only understands the *positive* or *negative* (sometimes *neutral* too) polarities of the sentiment. More advanced sentiment analysis will also consider dimensions such as agreement, subjectivity, confidence, irony, and so on. In this challenge we will conduct the basic positive vs negative sentiment analysis based on real Twitter tweets.\n",
    "\n",
    "NLTK comes with a [sentiment analysis package](https://www.nltk.org/api/nltk.sentiment.html). This package is great for dummies to perform sentiment analysis because it requires only the textual data to make predictions. For example:\n",
    "\n",
    "```python\n",
    ">>> from nltk.sentiment.vader import SentimentIntensityAnalyzer\n",
    ">>> txt = \"Ironhack is a Global Tech School ranked num 2 worldwide.  ",
    " ",
    "Our mission is to help people transform their careers and join a thriving community of tech professionals that love what they do.\"\n",
    ">>> analyzer = SentimentIntensityAnalyzer()\n",
    ">>> analyzer.polarity_scores(txt)\n",
    "{'neg': 0.0, 'neu': 0.741, 'pos': 0.259, 'compound': 0.8442}\n",
    "```\n",
    "\n",
    "In this challenge, however, you will not use NLTK's sentiment analysis package because in your Machine Learning training in the past 2 weeks you have learned how to make predictions more accurate than that. The [tweets data](https://www.kaggle.com/kazanova/sentiment140) we will be using today are already coded for the positive/negative sentiment. You will be able to use the Naïve Bayes classifier you learned in the lesson to predict the sentiment of tweets based on the labels."
   ]
  },
  {
   "cell_type": "markdown",
   "metadata": {},
   "source": [
    "## Conducting Sentiment Analysis\n",
    "\n",
    "### Loading and Exploring Data\n",
    "\n",
    "The dataset we'll be using today is located on Kaggle (https://www.kaggle.com/kazanova/sentiment140). Once you have downloaded and imported the dataset, it you will need to define the columns names: df.columns = ['target','id','date','flag','user','text']\n",
    "\n",
    "*Notes:* \n",
    "\n",
    "* The dataset is huuuuge (1.6m tweets). When you develop your data analysis codes, you can sample a subset of the data (e.g. 20k records) so that you will save a lot of time when you test your codes."
   ]
  },
  {
   "cell_type": "code",
   "execution_count": 1,
   "metadata": {},
   "outputs": [
    {
     "name": "stderr",
     "output_type": "stream",
     "text": [
      "[nltk_data] Downloading package punkt to /Users/amr/nltk_data...\n",
      "[nltk_data]   Package punkt is already up-to-date!\n"
     ]
    }
   ],
   "source": [
    "import pandas as pd\n",
    "import re\n",
    "from nltk.tokenize import word_tokenize\n",
    "import nltk\n",
    "from nltk.stem import WordNetLemmatizer \n",
    "from nltk.corpus import stopwords\n",
    "from sklearn.feature_extraction.text import CountVectorizer\n",
    "nltk.download('punkt')\n",
    "from nltk.corpus import wordnet\n",
    "from nltk.corpus import stopwords\n"
   ]
  },
  {
   "cell_type": "code",
   "execution_count": 7,
   "metadata": {},
   "outputs": [],
   "source": [
    "# your code here\n",
    "\n",
    "data=pd.read_csv('training.csv',encoding='ISO-8859-1',header=None)\n",
    "data.columns=['target','id','date','flag','user','text']"
   ]
  },
  {
   "cell_type": "code",
   "execution_count": 8,
   "metadata": {},
   "outputs": [
    {
     "data": {
      "text/html": [
       "<div>\n",
       "<style scoped>\n",
       "    .dataframe tbody tr th:only-of-type {\n",
       "        vertical-align: middle;\n",
       "    }\n",
       "\n",
       "    .dataframe tbody tr th {\n",
       "        vertical-align: top;\n",
       "    }\n",
       "\n",
       "    .dataframe thead th {\n",
       "        text-align: right;\n",
       "    }\n",
       "</style>\n",
       "<table border=\"1\" class=\"dataframe\">\n",
       "  <thead>\n",
       "    <tr style=\"text-align: right;\">\n",
       "      <th></th>\n",
       "      <th>target</th>\n",
       "      <th>id</th>\n",
       "      <th>date</th>\n",
       "      <th>flag</th>\n",
       "      <th>user</th>\n",
       "      <th>text</th>\n",
       "    </tr>\n",
       "  </thead>\n",
       "  <tbody>\n",
       "    <tr>\n",
       "      <th>0</th>\n",
       "      <td>0</td>\n",
       "      <td>1467810369</td>\n",
       "      <td>Mon Apr 06 22:19:45 PDT 2009</td>\n",
       "      <td>NO_QUERY</td>\n",
       "      <td>_TheSpecialOne_</td>\n",
       "      <td>@switchfoot http://twitpic.com/2y1zl - Awww, t...</td>\n",
       "    </tr>\n",
       "    <tr>\n",
       "      <th>1</th>\n",
       "      <td>0</td>\n",
       "      <td>1467810672</td>\n",
       "      <td>Mon Apr 06 22:19:49 PDT 2009</td>\n",
       "      <td>NO_QUERY</td>\n",
       "      <td>scotthamilton</td>\n",
       "      <td>is upset that he can't update his Facebook by ...</td>\n",
       "    </tr>\n",
       "    <tr>\n",
       "      <th>2</th>\n",
       "      <td>0</td>\n",
       "      <td>1467810917</td>\n",
       "      <td>Mon Apr 06 22:19:53 PDT 2009</td>\n",
       "      <td>NO_QUERY</td>\n",
       "      <td>mattycus</td>\n",
       "      <td>@Kenichan I dived many times for the ball. Man...</td>\n",
       "    </tr>\n",
       "    <tr>\n",
       "      <th>3</th>\n",
       "      <td>0</td>\n",
       "      <td>1467811184</td>\n",
       "      <td>Mon Apr 06 22:19:57 PDT 2009</td>\n",
       "      <td>NO_QUERY</td>\n",
       "      <td>ElleCTF</td>\n",
       "      <td>my whole body feels itchy and like its on fire</td>\n",
       "    </tr>\n",
       "    <tr>\n",
       "      <th>4</th>\n",
       "      <td>0</td>\n",
       "      <td>1467811193</td>\n",
       "      <td>Mon Apr 06 22:19:57 PDT 2009</td>\n",
       "      <td>NO_QUERY</td>\n",
       "      <td>Karoli</td>\n",
       "      <td>@nationwideclass no, it's not behaving at all....</td>\n",
       "    </tr>\n",
       "    <tr>\n",
       "      <th>...</th>\n",
       "      <td>...</td>\n",
       "      <td>...</td>\n",
       "      <td>...</td>\n",
       "      <td>...</td>\n",
       "      <td>...</td>\n",
       "      <td>...</td>\n",
       "    </tr>\n",
       "    <tr>\n",
       "      <th>1599995</th>\n",
       "      <td>4</td>\n",
       "      <td>2193601966</td>\n",
       "      <td>Tue Jun 16 08:40:49 PDT 2009</td>\n",
       "      <td>NO_QUERY</td>\n",
       "      <td>AmandaMarie1028</td>\n",
       "      <td>Just woke up. Having no school is the best fee...</td>\n",
       "    </tr>\n",
       "    <tr>\n",
       "      <th>1599996</th>\n",
       "      <td>4</td>\n",
       "      <td>2193601969</td>\n",
       "      <td>Tue Jun 16 08:40:49 PDT 2009</td>\n",
       "      <td>NO_QUERY</td>\n",
       "      <td>TheWDBoards</td>\n",
       "      <td>TheWDB.com - Very cool to hear old Walt interv...</td>\n",
       "    </tr>\n",
       "    <tr>\n",
       "      <th>1599997</th>\n",
       "      <td>4</td>\n",
       "      <td>2193601991</td>\n",
       "      <td>Tue Jun 16 08:40:49 PDT 2009</td>\n",
       "      <td>NO_QUERY</td>\n",
       "      <td>bpbabe</td>\n",
       "      <td>Are you ready for your MoJo Makeover? Ask me f...</td>\n",
       "    </tr>\n",
       "    <tr>\n",
       "      <th>1599998</th>\n",
       "      <td>4</td>\n",
       "      <td>2193602064</td>\n",
       "      <td>Tue Jun 16 08:40:49 PDT 2009</td>\n",
       "      <td>NO_QUERY</td>\n",
       "      <td>tinydiamondz</td>\n",
       "      <td>Happy 38th Birthday to my boo of alll time!!! ...</td>\n",
       "    </tr>\n",
       "    <tr>\n",
       "      <th>1599999</th>\n",
       "      <td>4</td>\n",
       "      <td>2193602129</td>\n",
       "      <td>Tue Jun 16 08:40:50 PDT 2009</td>\n",
       "      <td>NO_QUERY</td>\n",
       "      <td>RyanTrevMorris</td>\n",
       "      <td>happy #charitytuesday @theNSPCC @SparksCharity...</td>\n",
       "    </tr>\n",
       "  </tbody>\n",
       "</table>\n",
       "<p>1600000 rows × 6 columns</p>\n",
       "</div>"
      ],
      "text/plain": [
       "         target          id                          date      flag  \\\n",
       "0             0  1467810369  Mon Apr 06 22:19:45 PDT 2009  NO_QUERY   \n",
       "1             0  1467810672  Mon Apr 06 22:19:49 PDT 2009  NO_QUERY   \n",
       "2             0  1467810917  Mon Apr 06 22:19:53 PDT 2009  NO_QUERY   \n",
       "3             0  1467811184  Mon Apr 06 22:19:57 PDT 2009  NO_QUERY   \n",
       "4             0  1467811193  Mon Apr 06 22:19:57 PDT 2009  NO_QUERY   \n",
       "...         ...         ...                           ...       ...   \n",
       "1599995       4  2193601966  Tue Jun 16 08:40:49 PDT 2009  NO_QUERY   \n",
       "1599996       4  2193601969  Tue Jun 16 08:40:49 PDT 2009  NO_QUERY   \n",
       "1599997       4  2193601991  Tue Jun 16 08:40:49 PDT 2009  NO_QUERY   \n",
       "1599998       4  2193602064  Tue Jun 16 08:40:49 PDT 2009  NO_QUERY   \n",
       "1599999       4  2193602129  Tue Jun 16 08:40:50 PDT 2009  NO_QUERY   \n",
       "\n",
       "                    user                                               text  \n",
       "0        _TheSpecialOne_  @switchfoot http://twitpic.com/2y1zl - Awww, t...  \n",
       "1          scotthamilton  is upset that he can't update his Facebook by ...  \n",
       "2               mattycus  @Kenichan I dived many times for the ball. Man...  \n",
       "3                ElleCTF    my whole body feels itchy and like its on fire   \n",
       "4                 Karoli  @nationwideclass no, it's not behaving at all....  \n",
       "...                  ...                                                ...  \n",
       "1599995  AmandaMarie1028  Just woke up. Having no school is the best fee...  \n",
       "1599996      TheWDBoards  TheWDB.com - Very cool to hear old Walt interv...  \n",
       "1599997           bpbabe  Are you ready for your MoJo Makeover? Ask me f...  \n",
       "1599998     tinydiamondz  Happy 38th Birthday to my boo of alll time!!! ...  \n",
       "1599999   RyanTrevMorris  happy #charitytuesday @theNSPCC @SparksCharity...  \n",
       "\n",
       "[1600000 rows x 6 columns]"
      ]
     },
     "execution_count": 8,
     "metadata": {},
     "output_type": "execute_result"
    }
   ],
   "source": [
    "data"
   ]
  },
  {
   "cell_type": "code",
   "execution_count": 9,
   "metadata": {},
   "outputs": [
    {
     "data": {
      "text/plain": [
       "(20000, 6)"
      ]
     },
     "execution_count": 9,
     "metadata": {},
     "output_type": "execute_result"
    }
   ],
   "source": [
    "sample=data.sample(n=20000,random_state=42)\n",
    "sample.shape"
   ]
  },
  {
   "cell_type": "markdown",
   "metadata": {},
   "source": [
    "### Prepare Textual Data for Sentiment Analysis\n",
    "\n",
    "Now, apply the functions you have written in Challenge 1 to your whole data set. These functions include:\n",
    "\n",
    "* `clean_up()`\n",
    "\n",
    "* `tokenize()`\n",
    "\n",
    "* `stem_and_lemmatize()`\n",
    "\n",
    "* `remove_stopwords()`\n",
    "\n",
    "Create a new column called `text_processed` in the dataframe to contain the processed data. At the end, your `text_processed` column should contain lists of word tokens that are cleaned up. Your data should look like below:\n",
    "\n",
    "![Processed Data](data-cleaning-results.png)"
   ]
  },
  {
   "cell_type": "code",
   "execution_count": 11,
   "metadata": {},
   "outputs": [],
   "source": [
    "def clean_up(s):\n",
    "    \"\"\"\n",
    "    Cleans up numbers, URLs, and special characters from a string.\n",
    "\n",
    "    Args:\n",
    "        s: The string to be cleaned up.\n",
    "\n",
    "    Returns:\n",
    "        A string that has been cleaned up.\n",
    "    \"\"\"\n",
    "    text_without_url = re.sub(r'http://[^\\s]+', '', s)\n",
    "    cleaned_text = re.sub(r'[^a-zA-Z]', ' ', text_without_url).lower()\n",
    "    return cleaned_text\n",
    " \n",
    "def tokenize(s):\n",
    "    \"\"\"\n",
    "    Tokenize a string.\n",
    "\n",
    "    Args:\n",
    "        s: String to be tokenized.\n",
    "\n",
    "    Returns:\n",
    "        A list of words as the result of tokenization.\n",
    "    \"\"\"\n",
    "    \n",
    "    tokens = word_tokenize(s)\n",
    "    return tokens\n",
    "\n",
    "def stem_and_lemmatize(l):\n",
    "    \"\"\"\n",
    "    Perform stemming and lemmatization on a list of words.\n",
    "\n",
    "    Args:\n",
    "        l: A list of strings.\n",
    "\n",
    "    Returns:\n",
    "        A list of strings after being stemmed and lemmatized.\n",
    "    \"\"\"\n",
    "    tag_dict = {\n",
    "        \"J\": wordnet.ADJ,\n",
    "        \"N\": wordnet.NOUN,\n",
    "        \"V\": wordnet.VERB,\n",
    "        \"R\": wordnet.ADV\n",
    "    }\n",
    "    \n",
    "    lemmatizer = WordNetLemmatizer() \n",
    "\n",
    "    lemmatized = []\n",
    "    for word, tag in nltk.pos_tag(l, lang='eng'):\n",
    "        tag = tag[0].upper()  # gets first letter of POS categorization\n",
    "        tag = tag_dict.get(tag, wordnet.NOUN)  # get returns default (NOUN) if tag is not found in dictionary\n",
    "        lemmatized_word = lemmatizer.lemmatize(word, tag)\n",
    "        lemmatized.append(lemmatized_word)\n",
    "    \n",
    "    return lemmatized\n",
    "\n",
    "def remove_stopwords(l):\n",
    "    \"\"\"\n",
    "    Remove English stopwords from a list of strings.\n",
    "\n",
    "    Args:\n",
    "        l: A list of strings.\n",
    "\n",
    "    Returns:\n",
    "        A list of strings after stop words are removed.\n",
    "    \"\"\"\n",
    "    \n",
    "    without_sw = [word for word in l if not word in stopwords.words('english')]\n",
    "    return without_sw"
   ]
  },
  {
   "cell_type": "code",
   "execution_count": 12,
   "metadata": {},
   "outputs": [],
   "source": [
    "# your code here\n",
    "\n",
    "clean = sample['text'].apply(clean_up)\n",
    "token = clean.apply(tokenize)\n",
    "lemmatize = token.apply(stem_and_lemmatize)\n",
    "stopw = lemmatize.apply(remove_stopwords)\n",
    "sample['text_processed']= stopw"
   ]
  },
  {
   "cell_type": "code",
   "execution_count": 13,
   "metadata": {},
   "outputs": [
    {
     "data": {
      "text/html": [
       "<div>\n",
       "<style scoped>\n",
       "    .dataframe tbody tr th:only-of-type {\n",
       "        vertical-align: middle;\n",
       "    }\n",
       "\n",
       "    .dataframe tbody tr th {\n",
       "        vertical-align: top;\n",
       "    }\n",
       "\n",
       "    .dataframe thead th {\n",
       "        text-align: right;\n",
       "    }\n",
       "</style>\n",
       "<table border=\"1\" class=\"dataframe\">\n",
       "  <thead>\n",
       "    <tr style=\"text-align: right;\">\n",
       "      <th></th>\n",
       "      <th>target</th>\n",
       "      <th>id</th>\n",
       "      <th>date</th>\n",
       "      <th>flag</th>\n",
       "      <th>user</th>\n",
       "      <th>text</th>\n",
       "      <th>text_processed</th>\n",
       "    </tr>\n",
       "  </thead>\n",
       "  <tbody>\n",
       "    <tr>\n",
       "      <th>541200</th>\n",
       "      <td>0</td>\n",
       "      <td>2200003196</td>\n",
       "      <td>Tue Jun 16 18:18:12 PDT 2009</td>\n",
       "      <td>NO_QUERY</td>\n",
       "      <td>LaLaLindsey0609</td>\n",
       "      <td>@chrishasboobs AHHH I HOPE YOUR OK!!!</td>\n",
       "      <td>[chrishasboobs, ahhh, hope, ok]</td>\n",
       "    </tr>\n",
       "    <tr>\n",
       "      <th>750</th>\n",
       "      <td>0</td>\n",
       "      <td>1467998485</td>\n",
       "      <td>Mon Apr 06 23:11:14 PDT 2009</td>\n",
       "      <td>NO_QUERY</td>\n",
       "      <td>sexygrneyes</td>\n",
       "      <td>@misstoriblack cool , i have no tweet apps  fo...</td>\n",
       "      <td>[misstoriblack, cool, tweet, apps, razr]</td>\n",
       "    </tr>\n",
       "    <tr>\n",
       "      <th>766711</th>\n",
       "      <td>0</td>\n",
       "      <td>2300048954</td>\n",
       "      <td>Tue Jun 23 13:40:11 PDT 2009</td>\n",
       "      <td>NO_QUERY</td>\n",
       "      <td>sammydearr</td>\n",
       "      <td>@TiannaChaos i know  just family drama. its la...</td>\n",
       "      <td>[tiannachaos, know, family, drama, lame, hey, ...</td>\n",
       "    </tr>\n",
       "    <tr>\n",
       "      <th>285055</th>\n",
       "      <td>0</td>\n",
       "      <td>1993474027</td>\n",
       "      <td>Mon Jun 01 10:26:07 PDT 2009</td>\n",
       "      <td>NO_QUERY</td>\n",
       "      <td>Lamb_Leanne</td>\n",
       "      <td>School email won't open  and I have geography ...</td>\n",
       "      <td>[school, email, win, open, geography, stuff, r...</td>\n",
       "    </tr>\n",
       "    <tr>\n",
       "      <th>705995</th>\n",
       "      <td>0</td>\n",
       "      <td>2256550904</td>\n",
       "      <td>Sat Jun 20 12:56:51 PDT 2009</td>\n",
       "      <td>NO_QUERY</td>\n",
       "      <td>yogicerdito</td>\n",
       "      <td>upper airways problem</td>\n",
       "      <td>[upper, airway, problem]</td>\n",
       "    </tr>\n",
       "  </tbody>\n",
       "</table>\n",
       "</div>"
      ],
      "text/plain": [
       "        target          id                          date      flag  \\\n",
       "541200       0  2200003196  Tue Jun 16 18:18:12 PDT 2009  NO_QUERY   \n",
       "750          0  1467998485  Mon Apr 06 23:11:14 PDT 2009  NO_QUERY   \n",
       "766711       0  2300048954  Tue Jun 23 13:40:11 PDT 2009  NO_QUERY   \n",
       "285055       0  1993474027  Mon Jun 01 10:26:07 PDT 2009  NO_QUERY   \n",
       "705995       0  2256550904  Sat Jun 20 12:56:51 PDT 2009  NO_QUERY   \n",
       "\n",
       "                   user                                               text  \\\n",
       "541200  LaLaLindsey0609             @chrishasboobs AHHH I HOPE YOUR OK!!!    \n",
       "750         sexygrneyes  @misstoriblack cool , i have no tweet apps  fo...   \n",
       "766711       sammydearr  @TiannaChaos i know  just family drama. its la...   \n",
       "285055      Lamb_Leanne  School email won't open  and I have geography ...   \n",
       "705995      yogicerdito                             upper airways problem    \n",
       "\n",
       "                                           text_processed  \n",
       "541200                    [chrishasboobs, ahhh, hope, ok]  \n",
       "750              [misstoriblack, cool, tweet, apps, razr]  \n",
       "766711  [tiannachaos, know, family, drama, lame, hey, ...  \n",
       "285055  [school, email, win, open, geography, stuff, r...  \n",
       "705995                           [upper, airway, problem]  "
      ]
     },
     "execution_count": 13,
     "metadata": {},
     "output_type": "execute_result"
    }
   ],
   "source": [
    "sample.head()"
   ]
  },
  {
   "cell_type": "markdown",
   "metadata": {},
   "source": [
    "### Creating Bag of Words\n",
    "\n",
    "The purpose of this step is to create a [bag of words](https://en.wikipedia.org/wiki/Bag-of-words_model) from the processed data. The bag of words contains all the unique words in your whole text body (a.k.a. *corpus*) with the number of occurrence of each word. It will allow you to understand which words are the most important features across the whole corpus.\n",
    "\n",
    "Also, you can imagine you will have a massive set of words. The less important words (i.e. those of very low number of occurrence) do not contribute much to the sentiment. Therefore, you only need to use the most important words to build your feature set in the next step. In our case, we will use the top 5,000 words with the highest frequency to build the features.\n",
    "\n",
    "In the cell below, combine all the words in `text_processed` and calculate the frequency distribution of all words. A convenient library to calculate the term frequency distribution is NLTK's `FreqDist` class ([documentation](https://www.nltk.org/api/nltk.html#module-nltk.probability)). Then select the top 5,000 words from the frequency distribution."
   ]
  },
  {
   "cell_type": "code",
   "execution_count": 16,
   "metadata": {},
   "outputs": [],
   "source": [
    "# your code here\n",
    "def re_blob(row):\n",
    "    return \" \".join(row['text_processed'])\n",
    "sample['clean_blob'] = sample.apply(re_blob,axis=1)"
   ]
  },
  {
   "cell_type": "code",
   "execution_count": 17,
   "metadata": {},
   "outputs": [
    {
     "data": {
      "text/html": [
       "<div>\n",
       "<style scoped>\n",
       "    .dataframe tbody tr th:only-of-type {\n",
       "        vertical-align: middle;\n",
       "    }\n",
       "\n",
       "    .dataframe tbody tr th {\n",
       "        vertical-align: top;\n",
       "    }\n",
       "\n",
       "    .dataframe thead th {\n",
       "        text-align: right;\n",
       "    }\n",
       "</style>\n",
       "<table border=\"1\" class=\"dataframe\">\n",
       "  <thead>\n",
       "    <tr style=\"text-align: right;\">\n",
       "      <th></th>\n",
       "      <th>target</th>\n",
       "      <th>id</th>\n",
       "      <th>date</th>\n",
       "      <th>flag</th>\n",
       "      <th>user</th>\n",
       "      <th>text</th>\n",
       "      <th>text_processed</th>\n",
       "      <th>clean_blob</th>\n",
       "    </tr>\n",
       "  </thead>\n",
       "  <tbody>\n",
       "    <tr>\n",
       "      <th>541200</th>\n",
       "      <td>0</td>\n",
       "      <td>2200003196</td>\n",
       "      <td>Tue Jun 16 18:18:12 PDT 2009</td>\n",
       "      <td>NO_QUERY</td>\n",
       "      <td>LaLaLindsey0609</td>\n",
       "      <td>@chrishasboobs AHHH I HOPE YOUR OK!!!</td>\n",
       "      <td>[chrishasboobs, ahhh, hope, ok]</td>\n",
       "      <td>chrishasboobs ahhh hope ok</td>\n",
       "    </tr>\n",
       "    <tr>\n",
       "      <th>750</th>\n",
       "      <td>0</td>\n",
       "      <td>1467998485</td>\n",
       "      <td>Mon Apr 06 23:11:14 PDT 2009</td>\n",
       "      <td>NO_QUERY</td>\n",
       "      <td>sexygrneyes</td>\n",
       "      <td>@misstoriblack cool , i have no tweet apps  fo...</td>\n",
       "      <td>[misstoriblack, cool, tweet, apps, razr]</td>\n",
       "      <td>misstoriblack cool tweet apps razr</td>\n",
       "    </tr>\n",
       "    <tr>\n",
       "      <th>766711</th>\n",
       "      <td>0</td>\n",
       "      <td>2300048954</td>\n",
       "      <td>Tue Jun 23 13:40:11 PDT 2009</td>\n",
       "      <td>NO_QUERY</td>\n",
       "      <td>sammydearr</td>\n",
       "      <td>@TiannaChaos i know  just family drama. its la...</td>\n",
       "      <td>[tiannachaos, know, family, drama, lame, hey, ...</td>\n",
       "      <td>tiannachaos know family drama lame hey next ti...</td>\n",
       "    </tr>\n",
       "    <tr>\n",
       "      <th>285055</th>\n",
       "      <td>0</td>\n",
       "      <td>1993474027</td>\n",
       "      <td>Mon Jun 01 10:26:07 PDT 2009</td>\n",
       "      <td>NO_QUERY</td>\n",
       "      <td>Lamb_Leanne</td>\n",
       "      <td>School email won't open  and I have geography ...</td>\n",
       "      <td>[school, email, win, open, geography, stuff, r...</td>\n",
       "      <td>school email win open geography stuff revise s...</td>\n",
       "    </tr>\n",
       "    <tr>\n",
       "      <th>705995</th>\n",
       "      <td>0</td>\n",
       "      <td>2256550904</td>\n",
       "      <td>Sat Jun 20 12:56:51 PDT 2009</td>\n",
       "      <td>NO_QUERY</td>\n",
       "      <td>yogicerdito</td>\n",
       "      <td>upper airways problem</td>\n",
       "      <td>[upper, airway, problem]</td>\n",
       "      <td>upper airway problem</td>\n",
       "    </tr>\n",
       "  </tbody>\n",
       "</table>\n",
       "</div>"
      ],
      "text/plain": [
       "        target          id                          date      flag  \\\n",
       "541200       0  2200003196  Tue Jun 16 18:18:12 PDT 2009  NO_QUERY   \n",
       "750          0  1467998485  Mon Apr 06 23:11:14 PDT 2009  NO_QUERY   \n",
       "766711       0  2300048954  Tue Jun 23 13:40:11 PDT 2009  NO_QUERY   \n",
       "285055       0  1993474027  Mon Jun 01 10:26:07 PDT 2009  NO_QUERY   \n",
       "705995       0  2256550904  Sat Jun 20 12:56:51 PDT 2009  NO_QUERY   \n",
       "\n",
       "                   user                                               text  \\\n",
       "541200  LaLaLindsey0609             @chrishasboobs AHHH I HOPE YOUR OK!!!    \n",
       "750         sexygrneyes  @misstoriblack cool , i have no tweet apps  fo...   \n",
       "766711       sammydearr  @TiannaChaos i know  just family drama. its la...   \n",
       "285055      Lamb_Leanne  School email won't open  and I have geography ...   \n",
       "705995      yogicerdito                             upper airways problem    \n",
       "\n",
       "                                           text_processed  \\\n",
       "541200                    [chrishasboobs, ahhh, hope, ok]   \n",
       "750              [misstoriblack, cool, tweet, apps, razr]   \n",
       "766711  [tiannachaos, know, family, drama, lame, hey, ...   \n",
       "285055  [school, email, win, open, geography, stuff, r...   \n",
       "705995                           [upper, airway, problem]   \n",
       "\n",
       "                                               clean_blob  \n",
       "541200                         chrishasboobs ahhh hope ok  \n",
       "750                    misstoriblack cool tweet apps razr  \n",
       "766711  tiannachaos know family drama lame hey next ti...  \n",
       "285055  school email win open geography stuff revise s...  \n",
       "705995                               upper airway problem  "
      ]
     },
     "execution_count": 17,
     "metadata": {},
     "output_type": "execute_result"
    }
   ],
   "source": [
    "sample.head()"
   ]
  },
  {
   "cell_type": "code",
   "execution_count": 28,
   "metadata": {},
   "outputs": [],
   "source": [
    "bow_vect = CountVectorizer(max_features=5000)\n",
    "# fit creates one entry for each different word seen  \n",
    "X = bow_vect.fit_transform(sample['clean_blob']).toarray()\n"
   ]
  },
  {
   "cell_type": "code",
   "execution_count": 21,
   "metadata": {},
   "outputs": [
    {
     "data": {
      "text/plain": [
       "(20000, 5000)"
      ]
     },
     "execution_count": 21,
     "metadata": {},
     "output_type": "execute_result"
    }
   ],
   "source": [
    "X.shape"
   ]
  },
  {
   "cell_type": "code",
   "execution_count": 40,
   "metadata": {},
   "outputs": [
    {
     "name": "stdout",
     "output_type": "stream",
     "text": [
      "['aa', 'aaah', 'aah', 'aahh', 'aaron', 'ab', 'abandon', 'abba', 'abby', 'abc', 'ability', 'able', 'abroad', 'absence', 'absolutely', 'abt', 'abuse', 'ac', 'accept', 'access', 'accident', 'accidentally', 'accidently', 'accompany', 'accomplish', 'accord', 'account', 'accounting', 'acct', 'ace', 'ache', 'achy', 'acid', 'across', 'act', 'action', 'activity', 'actor', 'actual', 'actually', 'ad', 'adam', 'add', 'added', 'addict', 'addicting', 'addiction', 'addictive', 'addition', 'address', 'admit', 'adobe', 'adopt', 'adorable', 'adore', 'adult', 'advance', 'advantage', 'advert', 'advertise', 'advertising', 'advice', 'advil', 'affect', 'afford', 'afraid', 'africa', 'afronum', 'afternoon', 'afterparty', 'afterwards', 'age', 'agent', 'ago', 'agree', 'ah', 'aha', 'ahah', 'ahaha', 'ahahaha', 'ahead', 'ahem', 'ahh', 'ahhh', 'ahhhh', 'ahhhhh', 'ai', 'aid', 'aiden', 'aim', 'aint', 'air', 'airport', 'aj', 'aja', 'aka', 'ako', 'al', 'ala', 'alan', 'alancarr', 'alarm', 'alaska', 'album', 'alcohol', 'alex', 'alexa', 'alexalltimelow', 'alexis', 'ali', 'alice', 'alien', 'alike', 'alive', 'allen', 'allergic', 'allergy', 'allison', 'allow', 'ally', 'almost', 'alone', 'along', 'alot', 'aloud', 'already', 'alright', 'also', 'alternate', 'alternative', 'altho', 'although', 'always', 'alyssa', 'amanda', 'amaze', 'amazing', 'amazingg', 'amazinggg', 'amazingly', 'amazon', 'amber', 'ambition', 'ambulance', 'amd', 'amen', 'america', 'american', 'amount', 'amp', 'amsterdam', 'amuse', 'amy', 'anaheim', 'anatomy', 'ancient', 'andrea', 'andrew', 'andy', 'andyclemmensen', 'andyhurleyday', 'ang', 'angel', 'angle', 'angry', 'animal', 'animation', 'anime', 'ankle', 'ann', 'anna', 'annee', 'anniversary', 'announce', 'announcement', 'annoy', 'annoyed', 'annoying', 'another', 'answer', 'ant', 'anti', 'antibiotic', 'anticipate', 'antonio', 'anxiety', 'anxious', 'anybody', 'anyhow', 'anymore', 'anyone', 'anything', 'anytime', 'anyway', 'anyways', 'anywhere', 'anywho', 'ap', 'apa', 'apart', 'apartment', 'aplusk', 'apologize', 'apology', 'app', 'apparantly', 'apparently', 'appeal', 'appear', 'appearance', 'apple', 'application', 'apply', 'appointment', 'appreciate', 'apprentice', 'approve', 'apps', 'appt', 'april', 'apt', 'ar', 'archuleta', 'area', 'arent', 'argentina', 'argh', 'arghh', 'arghhh', 'arm', 'army', 'around', 'arrest', 'arrive', 'arse', 'arsed', 'arsenal', 'art', 'article', 'artist', 'asap', 'asda', 'ash', 'ashamed', 'ashley', 'ashleytisdale', 'ashton', 'asia', 'asian', 'aside', 'ask', 'askin', 'asleep', 'asot', 'asshole', 'assignment', 'assistant', 'associate', 'assume', 'aswell', 'ate', 'atl', 'atlanta', 'atlantic', 'atleast', 'atm', 'attach', 'attack', 'attempt', 'attend', 'attention', 'attract', 'au', 'auburn', 'audio', 'audition', 'augh', 'august', 'aunt', 'aus', 'aussie', 'austin', 'australia', 'australian', 'authority', 'auto', 'autograph', 'automatic', 'available', 'avatar', 'ave', 'average', 'avoid', 'aw', 'awake', 'awaltzforanight', 'award', 'aware', 'away', 'awe', 'awesome', 'awesomeness', 'awful', 'awh', 'awhile', 'awkward', 'awsome', 'aww', 'awwe', 'awww', 'awwww', 'awwwww', 'awwwwwwww', 'awwwwwwwwww', 'ay', 'aye', 'az', 'baar', 'babe', 'baby', 'babygirlparis', 'babysit', 'babysitting', 'bachelorette', 'back', 'background', 'backstreetboys', 'backup', 'backwards', 'bacon', 'bad', 'badge', 'badly', 'bag', 'bagel', 'bah', 'bail', 'bailey', 'bak', 'bake', 'balance', 'balcony', 'bali', 'ball', 'balloon', 'banana', 'band', 'bang', 'bank', 'banksyart', 'banner', 'bar', 'barbie', 'barcelona', 'bare', 'barely', 'barney', 'barrel', 'base', 'baseball', 'basement', 'basically', 'basketball', 'bass', 'bastard', 'bat', 'batch', 'bath', 'bathroom', 'batman', 'battery', 'battle', 'bay', 'bb', 'bbc', 'bbq', 'bby', 'bc', 'bcoz', 'bcuz', 'bday', 'beach', 'bean', 'bear', 'beast', 'beat', 'beatwittyparty', 'beautiful', 'beauty', 'becca', 'become', 'becuase', 'bed', 'bedroom', 'bedtime', 'bee', 'beef', 'beer', 'beetlejuice', 'beg', 'beggin', 'begin', 'beginning', 'behalf', 'behave', 'behind', 'bei', 'bein', 'beleive', 'belgium', 'believe', 'believer', 'bell', 'bella', 'belle', 'belly', 'belong', 'beloved', 'belt', 'ben', 'bench', 'benefit', 'berlin', 'bernie', 'berry', 'besides', 'best', 'bestfriend', 'bestie', 'besties', 'bet', 'beta', 'beth', 'better', 'beware', 'beyonce', 'beyond', 'bf', 'bff', 'bgt', 'bi', 'bible', 'big', 'bigdaws', 'biggie', 'bike', 'bikini', 'bill', 'billy', 'billyraycyrus', 'bin', 'bing', 'bio', 'biology', 'bird', 'birmingham', 'birthday', 'bit', 'bitch', 'bite', 'bitter', 'biz', 'bj', 'bk', 'black', 'blackberry', 'blackout', 'blah', 'blahh', 'blake', 'blame', 'blanket', 'blast', 'bleach', 'bleed', 'bleh', 'bless', 'blessing', 'blind', 'blink', 'blip', 'bliss', 'blister', 'block', 'blockhead', 'blog', 'blogger', 'blogging', 'blogher', 'blogspot', 'blogtv', 'blokeslib', 'blonde', 'blood', 'bloody', 'blossom', 'blow', 'blue', 'blurry', 'blush', 'bnp', 'board', 'boarding', 'boat', 'bob', 'bobby', 'body', 'bol', 'bomb', 'bone', 'bonus', 'boo', 'boob', 'book', 'boom', 'booo', 'boooo', 'booooo', 'boot', 'booth', 'booty', 'booze', 'border', 'bore', 'bored', 'boredd', 'boring', 'borrow', 'bos', 'boss', 'boston', 'bot', 'bother', 'bottle', 'bottom', 'bound', 'bout', 'bow', 'bowl', 'bowling', 'box', 'boy', 'boyfriend', 'boyle', 'boys', 'br', 'bra', 'brace', 'bracelet', 'brad', 'bradiewebbstack', 'brain', 'brake', 'bran', 'brand', 'brandon', 'brandy', 'brave', 'brazil', 'brazilian', 'brb', 'bread', 'break', 'breaker', 'breakfast', 'breast', 'breath', 'breathe', 'breathing', 'bree', 'breezy', 'brew', 'bri', 'brian', 'bride', 'bridge', 'bridget', 'bright', 'brighton', 'brill', 'brilliance', 'brilliant', 'bring', 'bristol', 'brit', 'britain', 'british', 'britney', 'britneyspears', 'bro', 'broadband', 'broadcast', 'broke', 'broked', 'broken', 'brooke', 'brooklyn', 'bros', 'brother', 'brown', 'brownie', 'browser', 'brrr', 'bruise', 'brum', 'bruna', 'brunch', 'brush', 'bryan', 'bryant', 'bsb', 'bt', 'btw', 'bubble', 'buck', 'bucket', 'bud', 'buddy', 'budget', 'bueno', 'buffalo', 'bug', 'bugger', 'build', 'building', 'bukas', 'bull', 'bully', 'bum', 'bummer', 'bump', 'bun', 'bunch', 'bunny', 'burger', 'burn', 'burnt', 'bury', 'bus', 'bush', 'business', 'bust', 'busy', 'butt', 'butter', 'butterfly', 'button', 'buy', 'buying', 'bye', 'byee', 'ca', 'cab', 'cabin', 'cable', 'cafe', 'caffeine', 'caitlin', 'cake', 'cal', 'calculator', 'calender', 'calf', 'cali', 'california', 'call', 'calm', 'cam', 'camera', 'camp', 'campaign', 'campus', 'canada', 'canadian', 'canal', 'cancel', 'cancer', 'candle', 'candlelight', 'candy', 'canon', 'cant', 'cap', 'cape', 'captain', 'capture', 'car', 'cara', 'card', 'cardiff', 'care', 'career', 'careful', 'carolina', 'carpet', 'carradine', 'carrie', 'carrot', 'carry', 'carter', 'cartoon', 'casa', 'case', 'cash', 'casino', 'cast', 'castle', 'cat', 'catch', 'caught', 'cause', 'cavs', 'cb', 'cba', 'cc', 'cd', 'cdc', 'celeb', 'celebrate', 'celebration', 'celebrity', 'celebs', 'cell', 'cellphone', 'celly', 'center', 'century', 'ceo', 'cera', 'cereal', 'ceremony', 'certain', 'certainly', 'certificate', 'certify', 'cg', 'ch', 'cha', 'chad', 'chain', 'chair', 'challenge', 'chamber', 'champ', 'champagne', 'champion', 'championship', 'chance', 'change', 'channel', 'chap', 'chapter', 'char', 'character', 'charge', 'charger', 'charity', 'charles', 'charlie', 'charlotte', 'charm', 'chart', 'chase', 'chat', 'cheap', 'check', 'cheek', 'cheer', 'cheerio', 'cheese', 'cheeseburger', 'cheesecake', 'cheesy', 'chef', 'chelsea', 'chemistry', 'cher', 'cherry', 'chew', 'chi', 'chica', 'chicago', 'chick', 'chicken', 'child', 'chile', 'chill', 'chillax', 'chillin', 'chilly', 'chin', 'china', 'chinese', 'chip', 'chloe', 'choc', 'chocolate', 'choice', 'choke', 'choose', 'chop', 'chore', 'chris', 'chrispirillo', 'christ', 'christian', 'christina', 'christine', 'christmas', 'chrome', 'chronicle', 'chubby', 'chuck', 'chuff', 'church', 'ciara', 'cider', 'cinema', 'cinnamon', 'circus', 'citizenship', 'city', 'civic', 'ck', 'claim', 'claire', 'clare', 'clarkson', 'clash', 'class', 'classic', 'classmate', 'classy', 'claudia', 'clean', 'cleaner', 'cleaning', 'clear', 'clearly', 'cleveland', 'clever', 'click', 'client', 'climb', 'clip', 'clock', 'close', 'closely', 'closer', 'closet', 'clothes', 'cloud', 'cloudy', 'club', 'clue', 'cm', 'cnt', 'co', 'coach', 'coast', 'cobra', 'cod', 'code', 'cody', 'coffee', 'coin', 'coke', 'cold', 'coldplay', 'cole', 'colin', 'collar', 'collect', 'collection', 'collective', 'college', 'color', 'colorful', 'colour', 'column', 'com', 'coma', 'combination', 'combine', 'combo', 'come', 'comedy', 'comfort', 'comfortable', 'comfy', 'comic', 'comin', 'comment', 'commentary', 'commercial', 'common', 'community', 'comp', 'company', 'compare', 'compatible', 'compete', 'competition', 'competitive', 'complain', 'complete', 'completely', 'complex', 'compliment', 'computer', 'con', 'conan', 'concentrate', 'concept', 'concern', 'concert', 'concur', 'condition', 'condo', 'condolence', 'conf', 'conference', 'confident', 'confirm', 'confirmation', 'conflict', 'confuse', 'confused', 'confusing', 'congrats', 'congratulation', 'connect', 'connection', 'conquer', 'conservative', 'consider', 'conspiracy', 'construction', 'consume', 'contact', 'contain', 'contemplate', 'content', 'contest', 'continue', 'contract', 'control', 'convention', 'conversation', 'convert', 'convince', 'convo', 'cook', 'cookie', 'cooking', 'cooky', 'cool', 'cooler', 'coolness', 'cop', 'cope', 'copper', 'copy', 'cord', 'core', 'corn', 'corner', 'correct', 'correction', 'corrupt', 'cos', 'cost', 'costume', 'couch', 'cough', 'could', 'couldnt', 'count', 'countdown', 'counter', 'country', 'county', 'couple', 'course', 'coursework', 'court', 'courtney', 'cousin', 'cover', 'coverage', 'cow', 'cowboy', 'cox', 'coz', 'cp', 'cr', 'crab', 'crack', 'cracker', 'craft', 'cram', 'cramp', 'crane', 'crap', 'crappy', 'crash', 'crave', 'craving', 'crawl', 'crazy', 'cream', 'create', 'creative', 'creativity', 'credit', 'creek', 'creep', 'creepy', 'crew', 'crib', 'cricket', 'crisis', 'crop', 'cross', 'crowd', 'cruel', 'cruise', 'crumb', 'crunch', 'crunchyk', 'crush', 'cry', 'crystal', 'cs', 'csi', 'ct', 'cu', 'cub', 'cuban', 'cuddle', 'cullen', 'cup', 'cupboard', 'cupcake', 'cuppa', 'cure', 'curious', 'curl', 'curly', 'current', 'currently', 'curry', 'curse', 'curtain', 'custom', 'customer', 'cut', 'cute', 'cutest', 'cutie', 'cuz', 'cya', 'cyber', 'cycle', 'cyrus', 'da', 'dad', 'daddy', 'daily', 'dairy', 'daisy', 'dallas', 'dam', 'damage', 'damm', 'dammit', 'damn', 'damnit', 'damnn', 'dan', 'dance', 'dancer', 'danecook', 'dang', 'dangerous', 'dani', 'daniel', 'danny', 'dannygokey', 'dannymcfly', 'dannywood', 'dare', 'dark', 'darker', 'darling', 'darn', 'dat', 'data', 'date', 'daughter', 'daughtry', 'dave', 'davejmatthews', 'david', 'davidarchie', 'davina', 'davy', 'dawn', 'dawnrichard', 'day', 'dayy', 'dayyy', 'db', 'dc', 'dd', 'ddlovato', 'ddub', 'de', 'dead', 'deadline', 'deal', 'dear', 'dearly', 'death', 'deathly', 'debate', 'debbie', 'debby', 'debit', 'december', 'decent', 'decide', 'decision', 'deck', 'dedicate', 'dee', 'deed', 'deep', 'def', 'default', 'defense', 'deff', 'definately', 'definitely', 'degree', 'delay', 'delete', 'delicious', 'delish', 'deliver', 'delivery', 'demand', 'demi', 'demo', 'demon', 'den', 'denise', 'denmark', 'dentist', 'denver', 'deny', 'department', 'depend', 'depot', 'depress', 'depressed', 'depressing', 'depression', 'derby', 'derek', 'desert', 'deserve', 'design', 'designer', 'desk', 'desktop', 'desperate', 'despite', 'dessert', 'destroy', 'detail', 'determine', 'detox', 'detroit', 'dev', 'develop', 'development', 'device', 'devil', 'devin', 'dew', 'dfizzy', 'dh', 'di', 'dia', 'diagnose', 'diamond', 'diana', 'diary', 'dice', 'dick', 'dictionary', 'diddy', 'didnt', 'die', 'diego', 'diet', 'difference', 'different', 'difficult', 'dig', 'digg', 'diggin', 'dim', 'din', 'ding', 'dinner', 'dip', 'direct', 'direction', 'director', 'dirty', 'dis', 'disable', 'disappear', 'disappoint', 'disappointed', 'disappointing', 'disappointment', 'disaster', 'disc', 'disco', 'discount', 'discover', 'discovery', 'discuss', 'disgust', 'disgusting', 'dish', 'dislike', 'disney', 'disneyland', 'display', 'dissapeared', 'dissapointed', 'distract', 'distraction', 'district', 'disturb', 'dito', 'ditto', 'dive', 'diversity', 'dividend', 'divorce', 'dj', 'dlebugdebz', 'dm', 'dmb', 'dmv', 'dnb', 'dnt', 'doc', 'dock', 'doctor', 'document', 'dodgy', 'doesnt', 'dog', 'doggy', 'doh', 'doin', 'doll', 'dollar', 'dollhouse', 'dominate', 'donald', 'donate', 'dong', 'donnie', 'donniewahlberg', 'dont', 'donut', 'doo', 'dooo', 'door', 'dope', 'dorm', 'dose', 'dot', 'double', 'doubt', 'douchebag', 'doug', 'doughnut', 'dougie', 'dougiemcfly', 'download', 'downside', 'downtown', 'doze', 'dozen', 'dr', 'draft', 'drag', 'dragon', 'drama', 'dramatic', 'draw', 'dread', 'dreadful', 'dream', 'dress', 'drift', 'drill', 'drink', 'drinkin', 'drinking', 'drive', 'driver', 'driveway', 'drizzle', 'drop', 'drowsy', 'drum', 'drunk', 'dry', 'dual', 'dublin', 'ducati', 'duck', 'dude', 'due', 'duh', 'dull', 'dumb', 'dun', 'dunkin', 'dunno', 'duno', 'dunt', 'dust', 'duty', 'dvd', 'dwight', 'dwighthoward', 'dye', 'dylan', 'eachother', 'ear', 'earl', 'earlier', 'early', 'earn', 'earphone', 'earring', 'earth', 'earthquake', 'easily', 'east', 'easter', 'eastern', 'easy', 'eat', 'eatin', 'eating', 'eatting', 'eb', 'ebay', 'economy', 'ed', 'eddie', 'edge', 'edinburgh', 'edit', 'edition', 'editor', 'edward', 'ee', 'een', 'eff', 'effect', 'effective', 'effin', 'effing', 'effort', 'egg', 'ego', 'egypt', 'eh', 'eight', 'either', 'el', 'elderly', 'election', 'electric', 'elliott', 'elmo', 'else', 'em', 'email', 'emailunlimited', 'emergency', 'emily', 'emma', 'emo', 'emoisforluvers', 'emotion', 'emotional', 'employ', 'employee', 'empty', 'en', 'encourage', 'end', 'energy', 'engage', 'engine', 'england', 'english', 'enjoy', 'enjoyable', 'enormous', 'enough', 'enter', 'entertain', 'entertainment', 'entire', 'entirely', 'entry', 'environment', 'envy', 'ep', 'epic', 'episode', 'eps', 'er', 'eric', 'erika', 'erm', 'err', 'errand', 'error', 'es', 'escape', 'esp', 'especially', 'espresso', 'essay', 'essential', 'est', 'estate', 'etc', 'etsy', 'eu', 'europe', 'european', 'eva', 'evans', 'eve', 'even', 'evening', 'event', 'eventually', 'ever', 'every', 'everybody', 'everyday', 'everyone', 'everything', 'everytime', 'everywhere', 'evil', 'evr', 'evryone', 'ew', 'ewan', 'eww', 'ewww', 'ex', 'exact', 'exactly', 'exam', 'example', 'exams', 'excellent', 'except', 'exception', 'exchange', 'excite', 'excited', 'exciting', 'excuse', 'exercise', 'exhaust', 'exhausted', 'exist', 'exit', 'expect', 'expense', 'expensive', 'experience', 'experiment', 'expert', 'expire', 'explain', 'explanation', 'explode', 'explore', 'explorer', 'express', 'extend', 'extension', 'extra', 'extreme', 'extremely', 'ey', 'eye', 'fa', 'fab', 'fabulous', 'face', 'facebook', 'fact', 'factor', 'factory', 'fade', 'fail', 'failure', 'faint', 'fair', 'fairly', 'fairy', 'faith', 'fake', 'fall', 'fam', 'fame', 'familiar', 'family', 'famous', 'fan', 'fancy', 'fantastic', 'fantasy', 'far', 'fare', 'farewell', 'farm', 'farrah', 'fart', 'fashion', 'fast', 'faster', 'fat', 'father', 'fault', 'fav', 'fave', 'favor', 'favorite', 'favorites', 'favourite', 'favs', 'fawcett', 'fb', 'fc', 'fck', 'fear', 'fearnecotton', 'feast', 'feature', 'feblub', 'february', 'fed', 'federer', 'fee', 'feed', 'feedback', 'feel', 'feelin', 'feeling', 'fell', 'fellow', 'felt', 'female', 'ferry', 'fest', 'festival', 'festivity', 'fever', 'ff', 'fi', 'field', 'fiesta', 'fight', 'figure', 'file', 'filipino', 'fill', 'film', 'filthy', 'final', 'finale', 'finally', 'finance', 'financial', 'find', 'fine', 'finger', 'finish', 'fiona', 'fire', 'firefox', 'fireman', 'firewall', 'firework', 'firmware', 'first', 'fish', 'fit', 'five', 'fix', 'fixing', 'fl', 'flag', 'flake', 'flame', 'flash', 'flat', 'flavour', 'flaw', 'flick', 'flickr', 'flight', 'flip', 'flirt', 'float', 'flood', 'floor', 'flop', 'florida', 'flow', 'flower', 'flu', 'fluffy', 'fly', 'fm', 'fml', 'fo', 'focus', 'folder', 'folk', 'follow', 'follower', 'followfriday', 'fone', 'font', 'food', 'fool', 'foot', 'footage', 'football', 'footy', 'force', 'forecast', 'forest', 'forever', 'forget', 'forgive', 'forgot', 'form', 'former', 'formula', 'fortune', 'forum', 'forward', 'foster', 'foul', 'four', 'fourth', 'fox', 'fragile', 'frame', 'fran', 'france', 'frank', 'frankiethesats', 'freak', 'freakin', 'freaking', 'freaky', 'fred', 'free', 'freebie', 'freedom', 'freeway', 'freeze', 'freezer', 'freezing', 'french', 'fresh', 'freshman', 'fresno', 'fri', 'friday', 'fridge', 'friend', 'friendly', 'friends', 'friggin', 'frm', 'frnds', 'frog', 'front', 'frozen', 'fruit', 'frustrate', 'fry', 'ft', 'ftl', 'ftw', 'fu', 'fuck', 'fucker', 'fuckin', 'fucking', 'fudge', 'full', 'fully', 'fun', 'function', 'functional', 'fund', 'funeral', 'funn', 'funnn', 'funny', 'fur', 'future', 'fwd', 'fyi', 'ga', 'gadget', 'gaga', 'gah', 'gahhh', 'gail', 'gain', 'gal', 'gallery', 'game', 'gang', 'garage', 'garden', 'gardening', 'garlic', 'gas', 'gathering', 'gawd', 'gay', 'gb', 'gcse', 'gd', 'gear', 'gee', 'geek', 'geez', 'gelato', 'gen', 'general', 'genius', 'genuine', 'geo', 'geography', 'george', 'german', 'germany', 'get', 'gettin', 'gf', 'gfalcone', 'ghost', 'gi', 'giant', 'gift', 'gig', 'gilmore', 'gim', 'gin', 'ginger', 'giraffe', 'girl', 'girlfriend', 'girlies', 'girly', 'give', 'giveaway', 'glad', 'glasgow', 'glass', 'glee', 'gloomy', 'glorious', 'glove', 'glow', 'gm', 'gmail', 'gna', 'go', 'goal', 'god', 'goin', 'gokey', 'gold', 'golden', 'goldfish', 'golf', 'gomez', 'gon', 'gona', 'good', 'goodbye', 'goodmorning', 'goodness', 'goodnight', 'goodnite', 'goody', 'goofy', 'google', 'gooo', 'goood', 'gooood', 'gorgeous', 'gosh', 'gossip', 'got', 'govt', 'gps', 'gr', 'grab', 'grace', 'grad', 'grade', 'graduate', 'graduation', 'grand', 'grandfather', 'grandma', 'grandmother', 'grandpa', 'grandparent', 'grant', 'grape', 'grass', 'grateful', 'gray', 'great', 'greatly', 'greek', 'green', 'greenday', 'greet', 'greeting', 'greg', 'grey', 'grill', 'grin', 'grind', 'grocery', 'groove', 'gross', 'ground', 'group', 'grow', 'grown', 'grr', 'grrr', 'grrrr', 'grrrrr', 'grrrrrr', 'grrrrrrrr', 'grumble', 'grumpy', 'gt', 'gud', 'guess', 'guest', 'guide', 'guilt', 'guilty', 'guitar', 'guitarist', 'gum', 'gun', 'guna', 'gunna', 'gurl', 'gut', 'gutted', 'guy', 'guys', 'gym', 'ha', 'haaa', 'habit', 'hack', 'hah', 'haha', 'hahah', 'hahaha', 'hahahah', 'hahahaha', 'hahahahah', 'hahahahahaha', 'hahahahahahahaha', 'hahha', 'hai', 'hair', 'haircut', 'half', 'halfway', 'halo', 'ham', 'hamlet', 'hammer', 'hamster', 'hand', 'handle', 'handsome', 'handy', 'hang', 'hangin', 'hangover', 'hannah', 'happen', 'happenin', 'happens', 'happiness', 'happy', 'har', 'hard', 'hardcore', 'hardly', 'harry', 'harsh', 'hashtag', 'hasnt', 'hat', 'hatch', 'hate', 'hater', 'hatton', 'hav', 'havent', 'haveyouever', 'havin', 'havn', 'havnt', 'hawaii', 'hay', 'hayfever', 'haz', 'hd', 'head', 'headache', 'headin', 'heading', 'headphone', 'health', 'healthy', 'heap', 'hear', 'heard', 'hearing', 'heart', 'heartmileycyrus', 'heat', 'heating', 'heaven', 'heavenly', 'heavy', 'heck', 'hectic', 'hee', 'heel', 'heey', 'heh', 'hehe', 'hehehe', 'hehehehe', 'hell', 'hella', 'hello', 'help', 'helpful', 'hero', 'hes', 'hey', 'heya', 'heyy', 'heyyy', 'heyyyy', 'hi', 'hiccup', 'hide', 'high', 'highlight', 'highly', 'hii', 'hike', 'hilarious', 'hill', 'hillsong', 'hint', 'hip', 'hire', 'history', 'hit', 'hm', 'hmm', 'hmmm', 'hmmmm', 'ho', 'hockey', 'hoffman', 'hog', 'hola', 'hold', 'hole', 'holiday', 'holla', 'hols', 'holy', 'home', 'homee', 'homemade', 'homesick', 'homework', 'homie', 'homies', 'hon', 'honest', 'honestly', 'honey', 'honor', 'hoo', 'hood', 'hoodie', 'hook', 'hooked', 'hooker', 'hooray', 'hop', 'hope', 'hopeful', 'hopefully', 'hoping', 'horny', 'horrible', 'horribly', 'horrid', 'horror', 'horse', 'hospital', 'host', 'hot', 'hotdog', 'hotel', 'hotmail', 'hottie', 'hound', 'hour', 'house', 'housewife', 'houston', 'howard', 'howdy', 'however', 'hows', 'hp', 'hr', 'hrs', 'hsm', 'http', 'hub', 'hubby', 'hug', 'huge', 'huggles', 'hugh', 'huh', 'huhu', 'hulu', 'human', 'humidity', 'humm', 'humour', 'hun', 'hundred', 'hung', 'hunger', 'hungover', 'hungry', 'hunny', 'hunt', 'hurley', 'hurricane', 'hurry', 'hurt', 'hurting', 'husband', 'hut', 'hv', 'hw', 'hype', 'iamdiddy', 'iamjonathancook', 'ian', 'ice', 'icecream', 'iced', 'icky', 'icon', 'ict', 'id', 'idc', 'idea', 'idiot', 'idk', 'idol', 'ie', 'ignore', 'ii', 'ijustine', 'ik', 'ikea', 'il', 'ill', 'illegal', 'ily', 'im', 'ima', 'imac', 'image', 'imagination', 'imagine', 'imma', 'immediately', 'important', 'impossible', 'impress', 'impressed', 'improve', 'improvement', 'include', 'increase', 'incredible', 'incredibly', 'indeed', 'india', 'indiana', 'individual', 'indonesia', 'indoor', 'indoors', 'infamous', 'infection', 'influence', 'info', 'inform', 'information', 'ing', 'initial', 'injury', 'ink', 'inn', 'inner', 'inning', 'innocent', 'insane', 'insanely', 'insect', 'insert', 'inside', 'insomnia', 'inspiration', 'inspirational', 'inspire', 'inspiring', 'instal', 'install', 'instead', 'insurance', 'intense', 'interact', 'interaction', 'interest', 'interested', 'interesting', 'interface', 'intern', 'international', 'internet', 'interview', 'introduce', 'intuitive', 'invest', 'invite', 'ip', 'iphone', 'ipod', 'iran', 'iranelection', 'ireland', 'iron', 'irvine', 'ish', 'island', 'isnt', 'isplayer', 'israel', 'issue', 'italian', 'italy', 'itch', 'itchy', 'item', 'itouch', 'itunes', 'iv', 'ive', 'ivy', 'iz', 'izzy', 'jack', 'jacket', 'jackie', 'jackson', 'jacob', 'jail', 'jaime', 'jake', 'jam', 'jamba', 'james', 'jamie', 'jan', 'jane', 'janet', 'japan', 'japanese', 'jar', 'jasmine', 'jason', 'jasonbradbury', 'java', 'jaw', 'jay', 'jb', 'jd', 'jealous', 'jean', 'jeez', 'jeff', 'jelous', 'jen', 'jennettemccurdy', 'jenni', 'jennifer', 'jenny', 'jeremy', 'jerk', 'jerry', 'jersey', 'jess', 'jesse', 'jesus', 'jet', 'jew', 'jewel', 'jim', 'jimmy', 'jk', 'jo', 'job', 'joe', 'joelmadden', 'joes', 'joey', 'joeymcintyre', 'jog', 'jogging', 'john', 'johnson', 'join', 'joint', 'jojo', 'joke', 'jon', 'jonas', 'jonasbrothers', 'jonathan', 'jonathanrknight', 'jones', 'jordan', 'jordanknight', 'josh', 'josie', 'journey', 'joy', 'joyful', 'jr', 'jst', 'judez', 'judge', 'juga', 'juice', 'juicy', 'july', 'jump', 'jumper', 'jun', 'june', 'junior', 'junk', 'jus', 'juss', 'justice', 'justin', 'juz', 'ka', 'kansa', 'kaotic', 'kaput', 'karaoke', 'kardashians', 'karen', 'kat', 'kate', 'katie', 'katy', 'katyperry', 'kay', 'kaya', 'keen', 'keep', 'keith', 'kelly', 'kenny', 'kentucky', 'kevin', 'kewl', 'key', 'keyboard', 'keza', 'kfc', 'kg', 'khloekardashian', 'kick', 'kid', 'kidding', 'kiddo', 'kidnap', 'kidney', 'kill', 'killer', 'kim', 'kimberley', 'kimkardashian', 'kind', 'kinda', 'kindness', 'king', 'kirk', 'kirstiealley', 'kiss', 'kit', 'kitchen', 'kitten', 'kitty', 'kiwi', 'kk', 'km', 'knee', 'knight', 'kno', 'knock', 'knot', 'know', 'knowledge', 'knw', 'ko', 'kobe', 'korea', 'korean', 'kraseybeauty', 'kreme', 'kris', 'krisallenmusic', 'krispy', 'kristen', 'kristenstewart', 'kristin', 'kt', 'kudos', 'kung', 'kyle', 'kylepetty', 'la', 'lab', 'labor', 'lack', 'lacrosse', 'lady', 'ladygaga', 'lag', 'lake', 'laker', 'lakers', 'lalala', 'lamb', 'lame', 'lan', 'lance', 'lancearmstrong', 'land', 'lang', 'language', 'lap', 'lappy', 'laptop', 'large', 'larry', 'last', 'lastnight', 'late', 'lately', 'later', 'laters', 'latter', 'laugh', 'laughing', 'launch', 'laundry', 'laura', 'lauren', 'laurie', 'law', 'lawn', 'lax', 'lay', 'layin', 'layout', 'lazy', 'lc', 'le', 'lead', 'leader', 'league', 'leah', 'leak', 'lean', 'learn', 'lease', 'least', 'leather', 'leave', 'leavin', 'lebron', 'lecture', 'lee', 'leeds', 'left', 'leftover', 'leg', 'legal', 'legend', 'legit', 'lem', 'lemon', 'lemonade', 'lena', 'length', 'leno', 'lens', 'leo', 'leon', 'less', 'lesson', 'let', 'letter', 'lettuce', 'level', 'lg', 'li', 'liar', 'libby', 'library', 'license', 'lie', 'life', 'lifetime', 'lift', 'light', 'lighten', 'lightening', 'lightning', 'like', 'likely', 'lil', 'lily', 'lilyroseallen', 'lime', 'limit', 'linda', 'line', 'link', 'linnetwoods', 'linux', 'lion', 'lip', 'lisa', 'list', 'listen', 'listenin', 'listening', 'lit', 'literally', 'litter', 'little', 'live', 'liverpool', 'living', 'liz', 'lj', 'lmao', 'lmaoo', 'lmfao', 'lo', 'load', 'loan', 'local', 'location', 'lock', 'log', 'logan', 'login', 'lol', 'loll', 'lollll', 'lolly', 'lolol', 'lololol', 'lolz', 'london', 'loneliness', 'lonely', 'lonesome', 'long', 'longer', 'longestpoemintheworld', 'look', 'lookin', 'lool', 'looong', 'loooong', 'looooove', 'looove', 'loop', 'loose', 'lor', 'lord', 'lose', 'loser', 'loss', 'lost', 'lot', 'lotion', 'lou', 'loud', 'louis', 'lounge', 'love', 'lovee', 'loveee', 'lovely', 'lover', 'loveyou', 'lovin', 'loving', 'low', 'lower', 'loyal', 'lt', 'lucas', 'luck', 'luckily', 'lucky', 'luggage', 'luke', 'lulu', 'lunch', 'lunchtime', 'lung', 'luv', 'luvs', 'lvatt', 'ly', 'lyk', 'lynn', 'lyric', 'mac', 'macbook', 'machine', 'mad', 'maddie', 'madisonmitchell', 'madness', 'mag', 'magazine', 'magic', 'magical', 'magnificent', 'mah', 'mai', 'mail', 'main', 'maintenance', 'major', 'majorly', 'make', 'maker', 'makeup', 'makin', 'making', 'male', 'mall', 'mam', 'mama', 'mamma', 'man', 'manage', 'management', 'manager', 'manchester', 'mandarin', 'mandy', 'mandyyjirouxx', 'manford', 'manga', 'mango', 'mani', 'manila', 'mann', 'mannn', 'manny', 'manson', 'manual', 'many', 'map', 'maplestory', 'mar', 'marathon', 'march', 'margarita', 'maria', 'marie', 'marilyn', 'mario', 'mark', 'market', 'marketer', 'marketing', 'markhoppus', 'marley', 'marriage', 'married', 'marry', 'mart', 'martin', 'marty', 'mary', 'mash', 'mask', 'mass', 'massage', 'massive', 'master', 'match', 'mate', 'material', 'math', 'matt', 'matter', 'maui', 'max', 'maxx', 'may', 'maya', 'maybe', 'mb', 'mba', 'mbp', 'mc', 'mcdo', 'mcdonalds', 'mcfly', 'mcflyharry', 'mcr', 'meal', 'mean', 'meaning', 'meant', 'meat', 'med', 'medical', 'medicine', 'medium', 'mee', 'meee', 'meeee', 'meeeee', 'meet', 'meeting', 'mega', 'megan', 'meh', 'mel', 'melbourne', 'melissa', 'melt', 'member', 'memo', 'memorial', 'memory', 'men', 'mental', 'mention', 'menu', 'mermaid', 'mess', 'message', 'messy', 'metal', 'methinks', 'method', 'metro', 'mexican', 'mexico', 'meyer', 'mi', 'mia', 'miami', 'mich', 'michael', 'michelle', 'michigan', 'mickey', 'microsoft', 'mid', 'middle', 'midnight', 'might', 'mighty', 'migraine', 'mike', 'mikey', 'milan', 'mile', 'miley', 'mileycyrus', 'military', 'milk', 'million', 'milo', 'mimi', 'min', 'mince', 'mind', 'mine', 'mini', 'ministry', 'mint', 'minus', 'minute', 'miracle', 'mirror', 'miserable', 'misery', 'miss', 'missin', 'mission', 'mistake', 'mitch', 'mitchelmusso', 'mite', 'mix', 'mixed', 'mixtape', 'mkay', 'mm', 'mma', 'mmitchelldaviss', 'mmm', 'mmmm', 'mmmmm', 'mo', 'mobile', 'mock', 'mod', 'mode', 'model', 'modus', 'mollie', 'mom', 'moment', 'momma', 'mommy', 'mon', 'monday', 'money', 'monica', 'monkey', 'monster', 'montana', 'month', 'monthly', 'mood', 'moon', 'moonfrye', 'mop', 'morgan', 'morn', 'mornin', 'morning', 'moro', 'morro', 'morrow', 'mostly', 'mother', 'motion', 'motivate', 'motivation', 'motor', 'motorcycle', 'mount', 'mountain', 'mourn', 'mouse', 'mouth', 'move', 'movie', 'mow', 'mp', 'mr', 'mrs', 'mrskutcher', 'mrtweet', 'msg', 'msn', 'mtv', 'mu', 'much', 'mucho', 'muffin', 'multi', 'multiple', 'multiply', 'multitasking', 'mum', 'mummy', 'munch', 'murder', 'muscle', 'museum', 'music', 'musical', 'musician', 'musicmonday', 'must', 'mute', 'mutual', 'mx', 'myrtle', 'myspace', 'myweakness', 'na', 'nacho', 'nachos', 'nadal', 'nah', 'nail', 'naked', 'naman', 'name', 'names', 'nap', 'nasty', 'nat', 'natalie', 'nathanfillion', 'nation', 'national', 'native', 'natural', 'nature', 'nauseous', 'navigation', 'navy', 'naw', 'nba', 'nbc', 'nc', 'nd', 'ne', 'near', 'nearly', 'neat', 'necessary', 'neck', 'necklace', 'need', 'neeed', 'negative', 'neighbor', 'neighborhood', 'neighbour', 'neil', 'neither', 'nephew', 'nerd', 'nerve', 'nervous', 'net', 'netbook', 'netflix', 'netherlands', 'network', 'networking', 'neva', 'never', 'nevermind', 'new', 'newcastle', 'newly', 'news', 'newsletter', 'newspaper', 'next', 'ng', 'nh', 'ni', 'nice', 'nicely', 'nick', 'nicky', 'nicole', 'niece', 'nigga', 'night', 'nighter', 'nightmare', 'nighty', 'niley', 'nin', 'nina', 'nine', 'ninja', 'nintendo', 'nite', 'nj', 'nk', 'nkairplay', 'nkangel', 'nkotb', 'nobody', 'noch', 'noise', 'nokia', 'nom', 'non', 'none', 'nonsense', 'noo', 'noodle', 'noon', 'noone', 'nooo', 'noooo', 'nooooo', 'noooooo', 'nooooooo', 'noooooooo', 'nope', 'normal', 'normally', 'north', 'northern', 'norway', 'nose', 'note', 'notebook', 'nothin', 'nothing', 'notice', 'notification', 'notorioustori', 'nova', 'novel', 'november', 'nowadays', 'nowhere', 'np', 'nt', 'nu', 'nudge', 'numb', 'number', 'nurse', 'nursing', 'nut', 'nw', 'ny', 'nyc', 'nyt', 'nz', 'oasis', 'obscura', 'obsess', 'obsession', 'obvious', 'obviously', 'occasion', 'ocean', 'october', 'od', 'odd', 'oddly', 'odds', 'oedipus', 'ofcourse', 'offense', 'offer', 'office', 'official', 'officially', 'officialnjonas', 'officialtila', 'offline', 'offset', 'often', 'oh', 'ohh', 'ohhh', 'ohhhh', 'ohio', 'oi', 'oil', 'ok', 'okay', 'okayyy', 'ol', 'old', 'olive', 'oliver', 'om', 'omfg', 'omg', 'omgg', 'omgosh', 'omgsh', 'one', 'onion', 'online', 'onm', 'onto', 'oo', 'ooc', 'ooh', 'ooo', 'oooh', 'ooohh', 'oooo', 'ooooh', 'oops', 'open', 'opening', 'opera', 'operation', 'opinion', 'opportunity', 'opposite', 'oprah', 'option', 'orange', 'order', 'ordinary', 'oreo', 'org', 'organise', 'organize', 'orientation', 'origin', 'original', 'orlando', 'os', 'ot', 'oth', 'others', 'otherwise', 'ou', 'ouch', 'ouchie', 'outcome', 'outdoor', 'outer', 'outfit', 'outside', 'outt', 'outta', 'oven', 'overall', 'overcast', 'overly', 'overnight', 'overseas', 'overtime', 'overuse', 'ovr', 'ow', 'owen', 'owl', 'owner', 'pa', 'pac', 'pacific', 'pack', 'package', 'pad', 'page', 'pain', 'painful', 'paint', 'painting', 'pair', 'pak', 'pal', 'palace', 'palm', 'pan', 'pancake', 'panda', 'pandora', 'panic', 'pant', 'papa', 'paparazzo', 'paper', 'paperwork', 'par', 'parade', 'paramore', 'paranoid', 'parent', 'paris', 'park', 'parking', 'parrot', 'part', 'participate', 'particular', 'particularly', 'partner', 'party', 'pas', 'pass', 'passion', 'passport', 'password', 'past', 'pasta', 'paste', 'pastor', 'patch', 'path', 'pathetic', 'patient', 'patrick', 'patrol', 'patti', 'pattinson', 'paul', 'paulaabdul', 'pay', 'payday', 'pb', 'pc', 'pcd', 'pe', 'pea', 'peace', 'peach', 'peak', 'peanut', 'pee', 'peek', 'peel', 'peep', 'pen', 'penalty', 'penang', 'penguin', 'penny', 'people', 'pepper', 'pepsi', 'per', 'percent', 'perez', 'perezhilton', 'perfect', 'perform', 'performance', 'perhaps', 'period', 'pero', 'perry', 'person', 'personal', 'personally', 'perspective', 'pet', 'pete', 'peter', 'peterfacinelli', 'petewentz', 'petite', 'pffft', 'ph', 'phew', 'phil', 'philippine', 'philly', 'phoenix', 'phone', 'photo', 'photography', 'photoshoot', 'photoshop', 'php', 'physic', 'physical', 'physically', 'pi', 'piano', 'pic', 'pick', 'picnic', 'picture', 'pie', 'piece', 'pierce', 'piercing', 'pig', 'piginthepoke', 'pilate', 'pile', 'pill', 'pillow', 'pilot', 'pimple', 'pin', 'pine', 'pineapple', 'ping', 'pink', 'pirate', 'piss', 'pissed', 'pit', 'pitch', 'pitt', 'pity', 'pix', 'pizza', 'pj', 'pk', 'pl', 'place', 'plain', 'plan', 'plane', 'planet', 'planning', 'plant', 'plastic', 'plate', 'platform', 'play', 'player', 'playin', 'playing', 'playlist', 'pleasant', 'please', 'pleased', 'pleasee', 'pleaseee', 'pleaseeee', 'pleasure', 'pleeeeease', 'plenty', 'pls', 'plug', 'plugin', 'plurk', 'plus', 'plymouth', 'plz', 'pm', 'po', 'pocket', 'pod', 'podcast', 'poem', 'poetry', 'point', 'poison', 'poke', 'poker', 'poland', 'police', 'polish', 'politics', 'poll', 'pond', 'pong', 'pony', 'poo', 'pool', 'poop', 'pooped', 'poor', 'poorly', 'pop', 'popcorn', 'poppin', 'popular', 'por', 'pork', 'porn', 'port', 'portion', 'posh', 'position', 'positive', 'possible', 'possibly', 'post', 'poster', 'postpone', 'pot', 'potato', 'potential', 'potter', 'pound', 'pour', 'pow', 'powder', 'power', 'powerbook', 'powerful', 'ppl', 'pr', 'practically', 'practice', 'pray', 'prayer', 'pre', 'preach', 'precious', 'prefer', 'preparation', 'prepare', 'prescription', 'present', 'presentation', 'president', 'press', 'pressure', 'preston', 'presume', 'pretend', 'pretty', 'pretzel', 'prevent', 'preview', 'price', 'pride', 'primary', 'prime', 'prince', 'princess', 'print', 'printer', 'priority', 'prison', 'privacy', 'private', 'prize', 'pro', 'prob', 'probably', 'problem', 'probs', 'process', 'producer', 'product', 'production', 'productive', 'productivity', 'professional', 'profile', 'profit', 'program', 'progress', 'project', 'prolly', 'prom', 'promise', 'promo', 'promote', 'promotion', 'proof', 'prop', 'proper', 'properly', 'property', 'proposal', 'protect', 'protest', 'proud', 'prove', 'provide', 'provider', 'ps', 'psp', 'pt', 'pub', 'public', 'pudding', 'puke', 'pull', 'pump', 'punch', 'punk', 'pup', 'puppet', 'puppy', 'purchase', 'pure', 'purple', 'purpose', 'purse', 'push', 'put', 'puzzle', 'python', 'qot', 'qu', 'qualify', 'quality', 'que', 'queen', 'question', 'quick', 'quicker', 'quickly', 'quiet', 'quit', 'quite', 'quot', 'quote', 'ra', 'rabbit', 'race', 'rachel', 'rachmurrayx', 'radio', 'rafa', 'raffle', 'rai', 'rain', 'rainbow', 'raining', 'rainy', 'raise', 'raisin', 'rally', 'ram', 'ramp', 'ranch', 'random', 'randomly', 'range', 'ranger', 'rant', 'rap', 'rape', 'rare', 'rarely', 'rash', 'raspberry', 'rat', 'rate', 'rather', 'raw', 'rawr', 'ray', 'rd', 'reach', 'reaction', 'read', 'reader', 'reading', 'ready', 'real', 'realise', 'reality', 'realize', 'reallly', 'really', 'realy', 'reason', 'reasonably', 'rebecca', 'reboot', 'rec', 'recall', 'receive', 'recently', 'reception', 'recession', 'recharge', 'recipe', 'recital', 'reckon', 'recognize', 'recommend', 'recommendation', 'record', 'recover', 'recovery', 'recycle', 'red', 'rediculous', 'refer', 'reference', 'refresh', 'refuse', 'regard', 'register', 'registration', 'regret', 'regular', 'rehearsal', 'reinstall', 'relate', 'relationship', 'relative', 'relax', 'relaxing', 'release', 'relevant', 'religious', 'relly', 'rely', 'remain', 'remedy', 'remember', 'remind', 'reminder', 'reminisce', 'remix', 'remote', 'remotely', 'remove', 'remy', 'renee', 'renew', 'rent', 'repair', 'repeat', 'replace', 'replacement', 'replay', 'reply', 'report', 'represent', 'request', 'require', 'rerun', 'reschedule', 'rescue', 'research', 'reserve', 'resist', 'resort', 'resource', 'respect', 'respond', 'response', 'responsible', 'rest', 'restaurant', 'restore', 'result', 'resume', 'retail', 'retard', 'return', 'retweet', 'reunion', 'rev', 'review', 'revise', 'revision', 'revolution', 'reward', 'rewrite', 'rey', 'reznor', 'rhyme', 'ri', 'rib', 'ribbon', 'rice', 'rich', 'richard', 'richards', 'rick', 'rico', 'rid', 'ride', 'ridiculous', 'ridiculously', 'right', 'ring', 'rio', 'rip', 'rise', 'riskybusinessmb', 'river', 'rly', 'rn', 'ro', 'roach', 'road', 'roar', 'roast', 'rob', 'robert', 'robin', 'robkardashian', 'rock', 'rockband', 'rockin', 'rocky', 'rofl', 'role', 'roll', 'roller', 'romantic', 'roni', 'roof', 'room', 'roomie', 'rooster', 'root', 'rose', 'ross', 'rotten', 'rough', 'round', 'route', 'routine', 'rove', 'row', 'royal', 'rpattz', 'rpg', 'rt', 'rub', 'rubbish', 'rude', 'ruin', 'rule', 'rum', 'rumor', 'run', 'running', 'rush', 'russia', 'russian', 'rustyrockets', 'ruth', 'ryan', 'ryanseacrest', 'ryanstar', 'sa', 'sack', 'sacred', 'sad', 'sadly', 'sadness', 'safari', 'safe', 'safely', 'sagada', 'sail', 'sake', 'salad', 'sale', 'sally', 'salon', 'salsa', 'sam', 'sample', 'samuel', 'san', 'sandal', 'sandwich', 'sandy', 'sangria', 'sans', 'santa', 'sara', 'sarah', 'sarap', 'sarcasm', 'sarcastic', 'sassy', 'sat', 'saturday', 'sauce', 'sausage', 'save', 'saving', 'saw', 'say', 'sayin', 'sc', 'scale', 'scan', 'scar', 'scare', 'scared', 'scary', 'scene', 'sched', 'schedule', 'schofe', 'school', 'sci', 'science', 'scoop', 'score', 'scorpio', 'scotland', 'scott', 'scotty', 'scrabble', 'scrap', 'scratch', 'scream', 'screen', 'screw', 'script', 'scroll', 'scrub', 'sd', 'se', 'sea', 'seafood', 'seal', 'sean', 'search', 'season', 'seat', 'seattle', 'sec', 'second', 'secondstomars', 'secret', 'section', 'security', 'see', 'seed', 'seek', 'seem', 'select', 'selena', 'selenagomez', 'self', 'sell', 'semester', 'semi', 'send', 'senior', 'sense', 'sensitive', 'sensor', 'sent', 'sentence', 'seo', 'separate', 'september', 'sequel', 'series', 'serious', 'seriously', 'sermon', 'serve', 'server', 'service', 'session', 'set', 'settle', 'setup', 'seven', 'several', 'severe', 'sex', 'sexy', 'sf', 'sg', 'sh', 'shabby', 'shade', 'shake', 'shall', 'shallow', 'shamara', 'shame', 'shamim', 'shane', 'shanedawson', 'shape', 'shaq', 'share', 'shareholder', 'shark', 'sharon', 'sharp', 'shaun', 'shaundiviney', 'shaunjumpnow', 'shave', 'shayna', 'shed', 'sheep', 'sheer', 'sheesh', 'sheet', 'shefaly', 'shelby', 'shell', 'shelter', 'shes', 'shift', 'shin', 'shine', 'shiny', 'ship', 'shipping', 'shirt', 'shit', 'shitty', 'shiz', 'shock', 'shoe', 'shoot', 'shooting', 'shop', 'shoppin', 'shopping', 'short', 'shortly', 'shot', 'shoulda', 'shoulder', 'shouldnt', 'shout', 'shoutout', 'show', 'shower', 'showered', 'shrimp', 'shuck', 'shud', 'shuffle', 'shut', 'shuteye', 'shutup', 'shy', 'si', 'sick', 'sickness', 'side', 'sidekick', 'sigh', 'sight', 'sign', 'signal', 'signing', 'silence', 'silent', 'silly', 'silver', 'sim', 'similar', 'simon', 'simple', 'simply', 'simpson', 'sims', 'since', 'sing', 'singapore', 'singer', 'singing', 'single', 'sings', 'sink', 'sinus', 'sip', 'sir', 'sistah', 'sister', 'sit', 'site', 'sittin', 'situation', 'six', 'size', 'sj', 'sk', 'skate', 'skill', 'skin', 'skinny', 'skip', 'skirt', 'skittle', 'skool', 'sky', 'skype', 'slack', 'slap', 'sleeep', 'sleep', 'sleeping', 'sleepless', 'sleepover', 'sleepy', 'slept', 'slice', 'slide', 'slight', 'slightly', 'slip', 'sloppy', 'slot', 'slow', 'slowly', 'slp', 'slumber', 'slurpee', 'sm', 'small', 'smart', 'smash', 'smell', 'smh', 'smile', 'smiley', 'smith', 'smoke', 'smooth', 'smoothly', 'smother', 'snack', 'snake', 'snap', 'sneak', 'sneeze', 'sniff', 'sniffle', 'snitch', 'snl', 'snore', 'snow', 'snuggle', 'soak', 'soap', 'soar', 'sob', 'sober', 'soccer', 'social', 'society', 'sock', 'sod', 'soda', 'soderling', 'sofa', 'soft', 'softball', 'software', 'solo', 'solution', 'solve', 'somebody', 'someday', 'somehow', 'someone', 'somethin', 'something', 'sometime', 'sometimes', 'somewhat', 'somewhere', 'son', 'song', 'songz', 'songzyuuup', 'sonic', 'sonny', 'soo', 'soon', 'sooner', 'sooo', 'soooo', 'sooooo', 'soooooo', 'sooooooo', 'soooooooo', 'sooooooooo', 'sophie', 'sore', 'sorry', 'sort', 'sorta', 'sou', 'soul', 'souljaboytellem', 'sound', 'soundtrack', 'soup', 'sour', 'south', 'southern', 'sp', 'space', 'spaghetti', 'spain', 'spam', 'spammer', 'spamming', 'spanish', 'spare', 'spark', 'speak', 'speaker', 'speaking', 'spear', 'spec', 'special', 'specific', 'spectacular', 'speech', 'speed', 'spell', 'spelling', 'spend', 'spending', 'spent', 'spice', 'spider', 'spin', 'spirit', 'splash', 'split', 'spock', 'spoil', 'spoiler', 'spongebob', 'sponsor', 'spore', 'sport', 'spot', 'spotify', 'spotlight', 'spread', 'spring', 'sprinkle', 'sprint', 'spymaster', 'square', 'squarespace', 'squirrel', 'sr', 'sroxy', 'srsly', 'sry', 'ss', 'st', 'stab', 'stable', 'stack', 'stacy', 'staff', 'stage', 'stair', 'stake', 'stalk', 'stalker', 'stamp', 'stand', 'standard', 'star', 'starbucks', 'stare', 'start', 'starve', 'state', 'statement', 'station', 'statistic', 'status', 'stay', 'steak', 'steal', 'steam', 'steel', 'step', 'steph', 'stephanie', 'stephen', 'stephenfry', 'steve', 'stewart', 'stick', 'stickam', 'sticker', 'sticky', 'stiff', 'stil', 'still', 'stilll', 'sting', 'stink', 'stitch', 'stock', 'stoke', 'stole', 'stomach', 'stone', 'stop', 'storage', 'store', 'storm', 'story', 'straight', 'straighten', 'strait', 'strand', 'strange', 'stranger', 'strategy', 'strawberry', 'stream', 'street', 'strength', 'stress', 'stressful', 'stretch', 'strike', 'string', 'strip', 'stroll', 'strong', 'struggle', 'stuck', 'stud', 'student', 'studio', 'study', 'stuff', 'stuffy', 'stun', 'stunning', 'stupid', 'stupidly', 'style', 'sub', 'subject', 'submit', 'subscribe', 'subway', 'succeed', 'success', 'successful', 'successfully', 'suck', 'sucky', 'sudden', 'suddenly', 'sue', 'suffer', 'sugar', 'suggest', 'suggestion', 'suit', 'suitcase', 'sum', 'summer', 'summit', 'sun', 'sunbathe', 'sunburn', 'suncream', 'sunday', 'sunglass', 'sunlight', 'sunny', 'sunrise', 'sunscreen', 'sunset', 'sunshine', 'sup', 'super', 'supernatural', 'supply', 'support', 'suppose', 'suprise', 'sure', 'surely', 'surf', 'surfer', 'surgery', 'surprise', 'surprised', 'surprisingly', 'surround', 'survive', 'survivor', 'susan', 'sushi', 'suspend', 'sux', 'suzeormanshow', 'swan', 'swap', 'sway', 'swear', 'sweat', 'sweaty', 'sweden', 'sweeney', 'sweet', 'sweetheart', 'sweetie', 'sweety', 'swell', 'swift', 'swim', 'swimming', 'swine', 'switch', 'swollen', 'sydney', 'sync', 'system', 'sytycd', 'ta', 'tab', 'table', 'tablet', 'taco', 'tad', 'tag', 'tail', 'take', 'takin', 'talaga', 'talent', 'talented', 'talk', 'talkin', 'tall', 'tame', 'tampa', 'tan', 'tank', 'tap', 'tape', 'tar', 'tara', 'target', 'tasha', 'task', 'taste', 'tat', 'tattoo', 'tax', 'taxi', 'tay', 'taylor', 'taylorswift', 'taytay', 'tbh', 'tc', 'te', 'tea', 'teach', 'teacher', 'team', 'tear', 'tease', 'tech', 'technically', 'technology', 'tee', 'teenage', 'teeth', 'teh', 'tele', 'television', 'tell', 'temp', 'temperature', 'tempt', 'ten', 'tend', 'tennis', 'tent', 'tequila', 'term', 'terminal', 'terrible', 'terribly', 'terrify', 'territory', 'test', 'tetri', 'texas', 'text', 'texted', 'textile', 'texting', 'texture', 'tgif', 'th', 'tha', 'thai', 'thang', 'thank', 'thankfully', 'thanks', 'thankyou', 'thanx', 'thats', 'theater', 'thedebbyryan', 'thee', 'theellenshow', 'theme', 'theory', 'therapy', 'therealjordin', 'therefore', 'theres', 'thesis', 'theyre', 'thing', 'thingy', 'think', 'thinkin', 'thinking', 'third', 'thirty', 'thnks', 'thnx', 'tho', 'thomasfiss', 'thou', 'though', 'thought', 'thousand', 'thr', 'thread', 'threadless', 'threat', 'threaten', 'three', 'thrill', 'throat', 'throw', 'thru', 'tht', 'thts', 'thumb', 'thunder', 'thunderstorm', 'thurs', 'thursday', 'thus', 'thx', 'ti', 'tia', 'tick', 'ticket', 'ticklemejoey', 'tidy', 'tie', 'tight', 'til', 'tile', 'till', 'tim', 'time', 'timing', 'tin', 'tina', 'tiny', 'tip', 'tire', 'tired', 'titanic', 'title', 'tix', 'tj', 'tmi', 'tmr', 'tmrw', 'tmw', 'toast', 'today', 'todd', 'toddler', 'toe', 'toenail', 'together', 'toilet', 'toll', 'tom', 'tomfelton', 'tommcfly', 'tommorow', 'tomorow', 'tomorro', 'tomorrow', 'tomoz', 'ton', 'tongue', 'tonight', 'tonite', 'tony', 'tonys', 'tool', 'tooo', 'toooo', 'tooooo', 'tooth', 'top', 'topic', 'torn', 'toronto', 'torture', 'torus', 'toss', 'tot', 'total', 'totally', 'touch', 'tough', 'tour', 'tournament', 'toward', 'tower', 'town', 'toy', 'tr', 'tracecyrus', 'track', 'tracy', 'trade', 'traffic', 'tragic', 'trail', 'trailer', 'train', 'trainer', 'training', 'transfer', 'transformer', 'translate', 'trap', 'trash', 'travel', 'traveler', 'travis', 'treadmill', 'treasure', 'treat', 'treatment', 'tree', 'trek', 'trend', 'trending', 'trent', 'trey', 'trick', 'tried', 'trio', 'trip', 'triple', 'troll', 'trouble', 'truck', 'true', 'truly', 'trust', 'truth', 'try', 'tryin', 'tryna', 'tshirt', 'tsk', 'tt', 'ttyl', 'tub', 'tube', 'tuck', 'tues', 'tuesday', 'tumblr', 'tummy', 'tune', 'turn', 'turtle', 'tut', 'tutorial', 'tv', 'tweeple', 'tweeps', 'tweet', 'tweetdeck', 'tweeter', 'tweeteradder', 'tweeterfollow', 'tweetie', 'tweeties', 'tweeting', 'twelve', 'twhirl', 'twice', 'twilight', 'twilightfairy', 'twin', 'twist', 'twister', 'twit', 'twitpic', 'twitt', 'twitter', 'twitterberry', 'twitterer', 'twitterfox', 'twitterific', 'twittering', 'twitterland', 'twitterverse', 'twitterville', 'twitts', 'two', 'tx', 'txt', 'ty', 'tylenol', 'tyler', 'type', 'typical', 'tyrese', 'uber', 'ubuntu', 'ud', 'udah', 'ugh', 'ughh', 'ughhh', 'ughhhh', 'ugly', 'uh', 'uk', 'ultimate', 'ultra', 'um', 'umbrella', 'umm', 'ummmm', 'un', 'unable', 'unbearable', 'uncle', 'und', 'understand', 'unemployment', 'uneventful', 'unexpected', 'unfair', 'unfollowed', 'unfortunately', 'unhappy', 'uni', 'uniform', 'unit', 'united', 'universe', 'university', 'unless', 'unlike', 'unlimited', 'unlock', 'unloved', 'unlucky', 'unpack', 'unreal', 'untill', 'unwind', 'upcoming', 'update', 'updated', 'upgrade', 'upload', 'uploading', 'upp', 'upper', 'ups', 'upset', 'upsetting', 'upside', 'upstairs', 'ur', 'urban', 'urgent', 'urgh', 'url', 'usa', 'usb', 'use', 'useful', 'useless', 'user', 'username', 'usual', 'usually', 'utter', 'va', 'vacation', 'val', 'value', 'vampire', 'vampirefreak', 'van', 'vancouver', 'vanessa', 'vanilla', 'veg', 'vega', 'vegas', 'veggie', 'velcroshoes', 'velvet', 'venture', 'venue', 'ver', 'veronica', 'verse', 'version', 'vet', 'vi', 'via', 'vibe', 'vice', 'victim', 'victoria', 'victory', 'vid', 'video', 'vids', 'view', 'vine', 'violin', 'vip', 'virginia', 'virtual', 'virus', 'visa', 'vision', 'visit', 'visitor', 'vista', 'visual', 'vitamin', 'viva', 'vocal', 'vodka', 'voice', 'void', 'volleyball', 'volume', 'volunteer', 'vote', 'votemileycyrus', 'voting', 'vou', 'wa', 'waffle', 'wah', 'wait', 'waitin', 'wake', 'wal', 'wale', 'walk', 'wall', 'wallace', 'wallet', 'wallpaper', 'walmart', 'wan', 'wana', 'want', 'war', 'ward', 'warm', 'warn', 'warning', 'warped', 'warranty', 'warrior', 'wash', 'washington', 'wasnt', 'wasp', 'wassup', 'waste', 'wat', 'watch', 'watchin', 'watching', 'water', 'wats', 'wave', 'wax', 'way', 'wayne', 'wayyy', 'waz', 'wc', 'weak', 'wear', 'weather', 'web', 'website', 'wed', 'wedding', 'wednesday', 'wee', 'weed', 'week', 'weekend', 'weekly', 'weigh', 'weight', 'weird', 'wel', 'welcome', 'well', 'welll', 'wen', 'wendy', 'werent', 'wes', 'west', 'westendactress', 'wet', 'whack', 'whaddup', 'whale', 'whataburger', 'whatcha', 'whatever', 'whats', 'wheel', 'whenever', 'wherever', 'whether', 'whew', 'whilst', 'whisper', 'whistle', 'whit', 'white', 'whoa', 'whoever', 'whole', 'whoo', 'whoop', 'whore', 'whose', 'whyy', 'wi', 'wicked', 'wide', 'wierd', 'wif', 'wife', 'wiff', 'wifi', 'wii', 'wil', 'wild', 'william', 'williams', 'williger', 'willing', 'wilson', 'wimbledon', 'wimp', 'win', 'wind', 'window', 'windows', 'windy', 'wine', 'wing', 'wink', 'winner', 'winter', 'wipe', 'wire', 'wireless', 'wisdom', 'wise', 'wish', 'wishin', 'wishing', 'wit', 'witch', 'within', 'without', 'wiv', 'wk', 'wkend', 'wknd', 'wnt', 'woah', 'woe', 'wolf', 'wolverine', 'woman', 'wonder', 'wonderful', 'wont', 'woo', 'wood', 'woohoo', 'wooo', 'woooo', 'wooooo', 'woop', 'woot', 'word', 'wordpress', 'work', 'worker', 'workin', 'working', 'workout', 'world', 'worried', 'worry', 'worse', 'worth', 'wossy', 'wot', 'would', 'wouldnt', 'wouldve', 'wow', 'wrap', 'wreck', 'wrench', 'write', 'writer', 'writing', 'wrk', 'wrong', 'wt', 'wtf', 'wth', 'wud', 'wut', 'wuz', 'wwdc', 'www', 'xbllygbsn', 'xbox', 'xd', 'xdd', 'xo', 'xox', 'xoxo', 'xoxoxo', 'xp', 'xx', 'xxx', 'xxxx', 'xxxxx', 'xxxxxx', 'xxxxxxx', 'ya', 'yaaay', 'yah', 'yahh', 'yahoo', 'yall', 'yankee', 'yard', 'yasmina', 'yawn', 'yay', 'yayy', 'yayyy', 'ye', 'yea', 'yeah', 'yeahh', 'yeap', 'year', 'yearbook', 'yeh', 'yell', 'yellow', 'yep', 'yer', 'yes', 'yesh', 'yess', 'yest', 'yesterday', 'yet', 'yey', 'yikes', 'yn', 'yo', 'yoga', 'yogurt', 'york', 'youll', 'young', 'youngq', 'youre', 'yous', 'youth', 'youtube', 'youu', 'youuu', 'youuuu', 'yr', 'yt', 'yu', 'yuck', 'yucky', 'yum', 'yummy', 'yung', 'yup', 'zac', 'zack', 'zealand', 'zero', 'zombie', 'zone', 'zoo']\n"
     ]
    }
   ],
   "source": [
    "words = bow_vect.get_feature_names_out()\n",
    "word_features = words.tolist()\n",
    "print(word_features)"
   ]
  },
  {
   "cell_type": "markdown",
   "metadata": {},
   "source": [
    "### Building Features\n",
    "\n",
    "Now let's build the features. Using the top 5,000 words, create a 2-dimensional matrix to record whether each of those words is contained in each document (tweet). Then you also have an output column to indicate whether the sentiment in each tweet is positive. For example, assuming your bag of words has 5 items (`['one', 'two', 'three', 'four', 'five']`) out of 4 documents (`['A', 'B', 'C', 'D']`), your feature set is essentially:\n",
    "\n",
    "| Doc | one | two | three | four | five | is_positive |\n",
    "|---|---|---|---|---|---|---|\n",
    "| A | True | False | False | True | False | True |\n",
    "| B | False | False | False | True | True | False |\n",
    "| C | False | True | False | False | False | True |\n",
    "| D | True | False | False | False | True | False|\n",
    "\n",
    "However, because the `nltk.NaiveBayesClassifier.train` class we will use in the next step does not work with Pandas dataframe, the structure of your feature set should be converted to the Python list looking like below:\n",
    "\n",
    "```python\n",
    "[\n",
    "\t({\n",
    "\t\t'one': True,\n",
    "\t\t'two': False,\n",
    "\t\t'three': False,\n",
    "\t\t'four': True,\n",
    "\t\t'five': False\n",
    "\t}, True),\n",
    "\t({\n",
    "\t\t'one': False,\n",
    "\t\t'two': False,\n",
    "\t\t'three': False,\n",
    "\t\t'four': True,\n",
    "\t\t'five': True\n",
    "\t}, False),\n",
    "\t({\n",
    "\t\t'one': False,\n",
    "\t\t'two': True,\n",
    "\t\t'three': False,\n",
    "\t\t'four': False,\n",
    "\t\t'five': False\n",
    "\t}, True),\n",
    "\t({\n",
    "\t\t'one': True,\n",
    "\t\t'two': False,\n",
    "\t\t'three': False,\n",
    "\t\t'four': False,\n",
    "\t\t'five': True\n",
    "\t}, False)\n",
    "]\n",
    "```\n",
    "\n",
    "To help you in this step, watch the [following video](https://www.youtube.com/watch?v=-vVskDsHcVc) to learn how to build the feature set with Python and NLTK. The source code in this video can be found [here](https://pythonprogramming.net/words-as-features-nltk-tutorial/)."
   ]
  },
  {
   "cell_type": "markdown",
   "metadata": {},
   "source": [
    "[![Building Features](building-features.jpg)](https://www.youtube.com/watch?v=-vVskDsHcVc)"
   ]
  },
  {
   "cell_type": "code",
   "execution_count": 38,
   "metadata": {},
   "outputs": [],
   "source": [
    "# your code here\n",
    "List_of_lists = sample['text_processed'].tolist()\n",
    "word_features = words.tolist()\n",
    "\n",
    "def find_features(document):\n",
    "    words = set(document)\n",
    "    features = {}\n",
    "    for w in word_features:\n",
    "        features[w] = (w in words)\n",
    "\n",
    "    return features\n",
    "\n"
   ]
  },
  {
   "cell_type": "code",
   "execution_count": null,
   "metadata": {},
   "outputs": [],
   "source": [
    "featuresets = [(find_features(rev), category) for (rev, category) in documents]"
   ]
  },
  {
   "cell_type": "markdown",
   "metadata": {},
   "source": [
    "### Building and Traininng Naive Bayes Model\n",
    "\n",
    "In this step you will split your feature set into a training and a test set. Then you will create a Bayes classifier instance using `nltk.NaiveBayesClassifier.train` ([example](https://www.nltk.org/book/ch06.html)) to train with the training dataset.\n",
    "\n",
    "After training the model, call `classifier.show_most_informative_features()` to inspect the most important features. The output will look like:\n",
    "\n",
    "```\n",
    "Most Informative Features\n",
    "\t    snow = True            False : True   =     34.3 : 1.0\n",
    "\t  easter = True            False : True   =     26.2 : 1.0\n",
    "\t headach = True            False : True   =     20.9 : 1.0\n",
    "\t    argh = True            False : True   =     17.6 : 1.0\n",
    "\tunfortun = True            False : True   =     16.9 : 1.0\n",
    "\t    jona = True             True : False  =     16.2 : 1.0\n",
    "\t     ach = True            False : True   =     14.9 : 1.0\n",
    "\t     sad = True            False : True   =     13.0 : 1.0\n",
    "\t  parent = True            False : True   =     12.9 : 1.0\n",
    "\t  spring = True            False : True   =     12.7 : 1.0\n",
    "```\n",
    "\n",
    "The [following video](https://www.youtube.com/watch?v=rISOsUaTrO4) will help you complete this step. The source code in this video can be found [here](https://pythonprogramming.net/naive-bayes-classifier-nltk-tutorial/)."
   ]
  },
  {
   "cell_type": "markdown",
   "metadata": {},
   "source": [
    "[![Building and Training NB](nb-model-building.jpg)](https://www.youtube.com/watch?v=rISOsUaTrO4)"
   ]
  },
  {
   "cell_type": "code",
   "execution_count": 1,
   "metadata": {},
   "outputs": [],
   "source": [
    "# your code here"
   ]
  },
  {
   "cell_type": "markdown",
   "metadata": {},
   "source": [
    "### Testing Naive Bayes Model\n",
    "\n",
    "Now we'll test our classifier with the test dataset. This is done by calling `nltk.classify.accuracy(classifier, test)`.\n",
    "\n",
    "As mentioned in one of the tutorial videos, a Naive Bayes model is considered OK if your accuracy score is over 0.6. If your accuracy score is over 0.7, you've done a great job!"
   ]
  },
  {
   "cell_type": "code",
   "execution_count": null,
   "metadata": {},
   "outputs": [],
   "source": [
    "# your code here"
   ]
  },
  {
   "cell_type": "markdown",
   "metadata": {},
   "source": [
    "## Bonus Question 1: Improve Model Performance\n",
    "\n",
    "If you are still not exhausted so far and want to dig deeper, try to improve your classifier performance. There are many aspects you can dig into, for example:\n",
    "\n",
    "* Improve stemming and lemmatization. Inspect your bag of words and the most important features. Are there any words you should furuther remove from analysis? You can append these words to further remove to the stop words list.\n",
    "\n",
    "* Remember we only used the top 5,000 features to build model? Try using different numbers of top features. The bottom line is to use as few features as you can without compromising your model performance. The fewer features you select into your model, the faster your model is trained. Then you can use a larger sample size to improve your model accuracy score."
   ]
  },
  {
   "cell_type": "code",
   "execution_count": null,
   "metadata": {},
   "outputs": [],
   "source": [
    "# your code here"
   ]
  },
  {
   "cell_type": "markdown",
   "metadata": {},
   "source": [
    "## Bonus Question 2: Machine Learning Pipeline\n",
    "\n",
    "In a new Jupyter Notebook, combine all your codes into a function (or a class). Your new function will execute the complete machine learning pipeline job by receiving the dataset location and output the classifier. This will allow you to use your function to predict the sentiment of any tweet in real time. "
   ]
  },
  {
   "cell_type": "code",
   "execution_count": null,
   "metadata": {},
   "outputs": [],
   "source": [
    "# your code here"
   ]
  },
  {
   "cell_type": "markdown",
   "metadata": {},
   "source": [
    "## Bonus Question 3: Apache Spark\n",
    "\n",
    "If you have completed the Apache Spark advanced topic lab, what you can do is to migrate your pipeline from local to a Databricks Notebook. Share your notebook with your instructor and classmates to show off your achievements!"
   ]
  },
  {
   "cell_type": "code",
   "execution_count": null,
   "metadata": {},
   "outputs": [],
   "source": [
    "# your code here"
   ]
  }
 ],
 "metadata": {
  "kernelspec": {
   "display_name": "Python 3 (ipykernel)",
   "language": "python",
   "name": "python3"
  },
  "language_info": {
   "codemirror_mode": {
    "name": "ipython",
    "version": 3
   },
   "file_extension": ".py",
   "mimetype": "text/x-python",
   "name": "python",
   "nbconvert_exporter": "python",
   "pygments_lexer": "ipython3",
   "version": "3.11.3"
  }
 },
 "nbformat": 4,
 "nbformat_minor": 2
}
